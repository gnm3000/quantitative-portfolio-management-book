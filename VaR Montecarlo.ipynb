{
 "cells": [
  {
   "cell_type": "markdown",
   "metadata": {},
   "source": [
    "VaR is the minimum loss which will be incurred at a certain level of probability (confidence interval) OR the maximum loss which will be realized at a level of probability."
   ]
  },
  {
   "cell_type": "markdown",
   "metadata": {},
   "source": [
    "<img src=\"https://miro.medium.com/max/500/1*vX_S15rz5sLHSZhRX9HR6w.jpeg\" >"
   ]
  },
  {
   "cell_type": "markdown",
   "metadata": {},
   "source": [
    "The above image shows the maximum loss which can be faced by a company at alfa % confidence."
   ]
  },
  {
   "cell_type": "code",
   "execution_count": 3,
   "metadata": {},
   "outputs": [
    {
     "name": "stdout",
     "output_type": "stream",
     "text": [
      "Collecting PyPortfolioOpt\n",
      "  Downloading PyPortfolioOpt-1.4.2-py3-none-any.whl (60 kB)\n",
      "\u001b[K     |████████████████████████████████| 60 kB 260 kB/s eta 0:00:011\n",
      "\u001b[?25hCollecting cvxpy<2.0.0,>=1.1.10\n",
      "  Downloading cvxpy-1.1.13.tar.gz (1.3 MB)\n",
      "\u001b[K     |████████████████████████████████| 1.3 MB 177 kB/s eta 0:00:01\n",
      "\u001b[?25h  Installing build dependencies ... \u001b[?25ldone\n",
      "\u001b[?25h  Getting requirements to build wheel ... \u001b[?25ldone\n",
      "\u001b[?25h    Preparing wheel metadata ... \u001b[?25ldone\n",
      "\u001b[?25hRequirement already satisfied: scipy<2.0,>=1.3 in ./env/lib/python3.7/site-packages (from PyPortfolioOpt) (1.7.0)\n",
      "Requirement already satisfied: numpy<2.0,>=1.12 in ./env/lib/python3.7/site-packages (from PyPortfolioOpt) (1.21.0)\n",
      "Requirement already satisfied: pandas>=0.19 in ./env/lib/python3.7/site-packages (from PyPortfolioOpt) (1.3.0)\n",
      "Collecting osqp>=0.4.1\n",
      "  Using cached osqp-0.6.2.post0-cp37-cp37m-manylinux2014_x86_64.whl (212 kB)\n",
      "Collecting ecos>=2\n",
      "  Using cached ecos-2.0.7.post1-cp37-cp37m-manylinux1_x86_64.whl (147 kB)\n",
      "Collecting scs>=1.1.6\n",
      "  Downloading scs-2.1.4.tar.gz (6.6 MB)\n",
      "\u001b[K     |████████████████████████████████| 6.6 MB 363 kB/s eta 0:00:01\n",
      "\u001b[?25h  Installing build dependencies ... \u001b[?25ldone\n",
      "\u001b[?25h  Getting requirements to build wheel ... \u001b[?25ldone\n",
      "\u001b[?25h    Preparing wheel metadata ... \u001b[?25ldone\n",
      "\u001b[?25hRequirement already satisfied: python-dateutil>=2.7.3 in ./env/lib/python3.7/site-packages (from pandas>=0.19->PyPortfolioOpt) (2.8.1)\n",
      "Requirement already satisfied: pytz>=2017.3 in ./env/lib/python3.7/site-packages (from pandas>=0.19->PyPortfolioOpt) (2021.1)\n",
      "Collecting qdldl\n",
      "  Using cached qdldl-0.1.5.post0-cp37-cp37m-manylinux2014_x86_64.whl (941 kB)\n",
      "Requirement already satisfied: six>=1.5 in ./env/lib/python3.7/site-packages (from python-dateutil>=2.7.3->pandas>=0.19->PyPortfolioOpt) (1.16.0)\n",
      "Building wheels for collected packages: cvxpy, scs\n",
      "  Building wheel for cvxpy (PEP 517) ... \u001b[?25ldone\n",
      "\u001b[?25h  Created wheel for cvxpy: filename=cvxpy-1.1.13-cp37-cp37m-linux_x86_64.whl size=2736255 sha256=a4e05896f4f575df05669331295031a344d1c927a870e9e363597e278a1223f2\n",
      "  Stored in directory: /home/german/.cache/pip/wheels/75/f2/f8/d594ef1abb01187c33dcc6c9bcf6cf3474ec01535ed9b75e3a\n",
      "  Building wheel for scs (PEP 517) ... \u001b[?25ldone\n",
      "\u001b[?25h  Created wheel for scs: filename=scs-2.1.4-cp37-cp37m-linux_x86_64.whl size=527037 sha256=3a7943897b4c1a1894caa95fa6fdc3bea6a0f146ae20d05cd8ab252759f99436\n",
      "  Stored in directory: /home/german/.cache/pip/wheels/d6/58/0b/a55ff6d4e2da4c9776e363a778ea13e4068037a7be82eb85e0\n",
      "Successfully built cvxpy scs\n",
      "Installing collected packages: qdldl, osqp, ecos, scs, cvxpy, PyPortfolioOpt\n",
      "Successfully installed PyPortfolioOpt-1.4.2 cvxpy-1.1.13 ecos-2.0.7.post1 osqp-0.6.2.post0 qdldl-0.1.5.post0 scs-2.1.4\n",
      "\u001b[33mWARNING: You are using pip version 20.0.2; however, version 21.1.3 is available.\n",
      "You should consider upgrading via the '/home/german/web/quantitative-portfolio-management/env/bin/python -m pip install --upgrade pip' command.\u001b[0m\n"
     ]
    }
   ],
   "source": [
    "#Importing all required libraries\n",
    "#Created by Sanket Karve\n",
    "import matplotlib.pyplot as plt\n",
    "import numpy as np\n",
    "import pandas as pd\n",
    "from matplotlib.ticker import FuncFormatter\n",
    "!pip install PyPortfolioOpt\n",
    "#Installing the Portfolio Optimzation Library\n",
    "from pypfopt.efficient_frontier import EfficientFrontier\n",
    "from pypfopt import risk_models\n",
    "from pypfopt import expected_returns\n",
    "from matplotlib.ticker import FuncFormatter"
   ]
  },
  {
   "cell_type": "code",
   "execution_count": 4,
   "metadata": {},
   "outputs": [],
   "source": [
    "import pandas as pd\n",
    "import yfinance as yf\n",
    "def download_ticker(ticker):\n",
    "    data_= yf.download(tickers = ticker,\n",
    "                        start=\"2017-01-01\",\n",
    "                        #end=\"2017-12-31\",\n",
    "                        interval = \"1d\",\n",
    "                        auto_ajust = True,\n",
    "                        threads = True,\n",
    "                           )\n",
    "    #display(data_[\"Adj Close\"])\n",
    "    return data_[\"Adj Close\"]"
   ]
  },
  {
   "cell_type": "code",
   "execution_count": 6,
   "metadata": {},
   "outputs": [
    {
     "name": "stdout",
     "output_type": "stream",
     "text": [
      "[*********************100%***********************]  1 of 1 completed\n",
      "[*********************100%***********************]  1 of 1 completed\n",
      "[*********************100%***********************]  1 of 1 completed\n",
      "[*********************100%***********************]  1 of 1 completed\n",
      "[*********************100%***********************]  1 of 1 completed\n"
     ]
    }
   ],
   "source": [
    "tickers = ['GOOGL','FB','AAPL','NFLX','AMZN']\n",
    "thelen = len(tickers)\n",
    "price_data = []\n",
    "for ticker in range(thelen):\n",
    "    price_data.append(download_ticker(tickers[ticker]))"
   ]
  },
  {
   "cell_type": "code",
   "execution_count": 7,
   "metadata": {},
   "outputs": [
    {
     "data": {
      "text/html": [
       "<div>\n",
       "<style scoped>\n",
       "    .dataframe tbody tr th:only-of-type {\n",
       "        vertical-align: middle;\n",
       "    }\n",
       "\n",
       "    .dataframe tbody tr th {\n",
       "        vertical-align: top;\n",
       "    }\n",
       "\n",
       "    .dataframe thead th {\n",
       "        text-align: right;\n",
       "    }\n",
       "</style>\n",
       "<table border=\"1\" class=\"dataframe\">\n",
       "  <thead>\n",
       "    <tr style=\"text-align: right;\">\n",
       "      <th></th>\n",
       "      <th>GOOGL</th>\n",
       "      <th>FB</th>\n",
       "      <th>AAPL</th>\n",
       "      <th>NFLX</th>\n",
       "      <th>AMZN</th>\n",
       "    </tr>\n",
       "    <tr>\n",
       "      <th>Date</th>\n",
       "      <th></th>\n",
       "      <th></th>\n",
       "      <th></th>\n",
       "      <th></th>\n",
       "      <th></th>\n",
       "    </tr>\n",
       "  </thead>\n",
       "  <tbody>\n",
       "    <tr>\n",
       "      <th>2021-07-01</th>\n",
       "      <td>2448.889893</td>\n",
       "      <td>354.390015</td>\n",
       "      <td>137.270004</td>\n",
       "      <td>533.539978</td>\n",
       "      <td>3432.969971</td>\n",
       "    </tr>\n",
       "    <tr>\n",
       "      <th>2021-07-02</th>\n",
       "      <td>2505.149902</td>\n",
       "      <td>354.700012</td>\n",
       "      <td>139.960007</td>\n",
       "      <td>533.979980</td>\n",
       "      <td>3510.979980</td>\n",
       "    </tr>\n",
       "    <tr>\n",
       "      <th>2021-07-06</th>\n",
       "      <td>2523.800049</td>\n",
       "      <td>352.779999</td>\n",
       "      <td>142.020004</td>\n",
       "      <td>541.640015</td>\n",
       "      <td>3675.739990</td>\n",
       "    </tr>\n",
       "    <tr>\n",
       "      <th>2021-07-07</th>\n",
       "      <td>2529.479980</td>\n",
       "      <td>350.489990</td>\n",
       "      <td>144.570007</td>\n",
       "      <td>535.960022</td>\n",
       "      <td>3696.580078</td>\n",
       "    </tr>\n",
       "    <tr>\n",
       "      <th>2021-07-08</th>\n",
       "      <td>2500.879883</td>\n",
       "      <td>345.649994</td>\n",
       "      <td>143.240005</td>\n",
       "      <td>530.760010</td>\n",
       "      <td>3731.409912</td>\n",
       "    </tr>\n",
       "  </tbody>\n",
       "</table>\n",
       "</div>"
      ],
      "text/plain": [
       "                  GOOGL          FB        AAPL        NFLX         AMZN\n",
       "Date                                                                    \n",
       "2021-07-01  2448.889893  354.390015  137.270004  533.539978  3432.969971\n",
       "2021-07-02  2505.149902  354.700012  139.960007  533.979980  3510.979980\n",
       "2021-07-06  2523.800049  352.779999  142.020004  541.640015  3675.739990\n",
       "2021-07-07  2529.479980  350.489990  144.570007  535.960022  3696.580078\n",
       "2021-07-08  2500.879883  345.649994  143.240005  530.760010  3731.409912"
      ]
     },
     "execution_count": 7,
     "metadata": {},
     "output_type": "execute_result"
    }
   ],
   "source": [
    "df_stocks = pd.concat(price_data, axis=1)\n",
    "df_stocks.columns=tickers\n",
    "df_stocks.tail()"
   ]
  },
  {
   "cell_type": "markdown",
   "metadata": {},
   "source": [
    "Now we will calculate the portfolio weights of each assets. \n"
   ]
  },
  {
   "cell_type": "code",
   "execution_count": 8,
   "metadata": {},
   "outputs": [
    {
     "name": "stdout",
     "output_type": "stream",
     "text": [
      "OrderedDict([('GOOGL', 0.0), ('FB', 0.0), ('AAPL', 0.49048), ('NFLX', 0.0), ('AMZN', 0.50952)])\n"
     ]
    }
   ],
   "source": [
    "#Annualized Return\n",
    "mu = expected_returns.mean_historical_return(df_stocks)\n",
    "#Sample Variance of Portfolio\n",
    "Sigma = risk_models.sample_cov(df_stocks)\n",
    "#Max Sharpe Ratio - Tangent to the EF\n",
    "from pypfopt import objective_functions, base_optimizer\n",
    "ef = EfficientFrontier(mu, Sigma, weight_bounds=(0,1)) #weight bounds in negative allows shorting of stocks\n",
    "sharpe_pfolio=ef.max_sharpe() \n",
    "#May use add objective to ensure minimum zero weighting to individual stocks\n",
    "sharpe_pwt=ef.clean_weights()\n",
    "print(sharpe_pwt)"
   ]
  },
  {
   "cell_type": "markdown",
   "metadata": {},
   "source": [
    "Now we have the weights of Max Sharpe Ratio by optimizacion.\n",
    "This this we will used to calculate the expected portfolio return."
   ]
  },
  {
   "cell_type": "code",
   "execution_count": 9,
   "metadata": {},
   "outputs": [],
   "source": [
    "#VaR Calculation"
   ]
  },
  {
   "cell_type": "code",
   "execution_count": 10,
   "metadata": {},
   "outputs": [],
   "source": [
    "\n",
    "ticker_rx2 = []\n",
    "#Convert Dictionary to list of asset weights from Max Sharpe Ratio Portfolio\n",
    "sh_wt = list(sharpe_pwt.values())\n",
    "sh_wt=np.array(sh_wt)"
   ]
  },
  {
   "cell_type": "code",
   "execution_count": 11,
   "metadata": {},
   "outputs": [],
   "source": [
    "# we convert price to cummulative return, also we considered this as holding period"
   ]
  },
  {
   "cell_type": "code",
   "execution_count": 12,
   "metadata": {},
   "outputs": [
    {
     "data": {
      "text/html": [
       "<div>\n",
       "<style scoped>\n",
       "    .dataframe tbody tr th:only-of-type {\n",
       "        vertical-align: middle;\n",
       "    }\n",
       "\n",
       "    .dataframe tbody tr th {\n",
       "        vertical-align: top;\n",
       "    }\n",
       "\n",
       "    .dataframe thead th {\n",
       "        text-align: right;\n",
       "    }\n",
       "</style>\n",
       "<table border=\"1\" class=\"dataframe\">\n",
       "  <thead>\n",
       "    <tr style=\"text-align: right;\">\n",
       "      <th></th>\n",
       "      <th>GOOGL</th>\n",
       "      <th>FB</th>\n",
       "      <th>AAPL</th>\n",
       "      <th>NFLX</th>\n",
       "      <th>AMZN</th>\n",
       "    </tr>\n",
       "    <tr>\n",
       "      <th>Date</th>\n",
       "      <th></th>\n",
       "      <th></th>\n",
       "      <th></th>\n",
       "      <th></th>\n",
       "      <th></th>\n",
       "    </tr>\n",
       "  </thead>\n",
       "  <tbody>\n",
       "    <tr>\n",
       "      <th>2017-01-03</th>\n",
       "      <td>NaN</td>\n",
       "      <td>NaN</td>\n",
       "      <td>NaN</td>\n",
       "      <td>NaN</td>\n",
       "      <td>NaN</td>\n",
       "    </tr>\n",
       "    <tr>\n",
       "      <th>2017-01-04</th>\n",
       "      <td>0.999703</td>\n",
       "      <td>1.015660</td>\n",
       "      <td>0.998881</td>\n",
       "      <td>1.015060</td>\n",
       "      <td>1.004657</td>\n",
       "    </tr>\n",
       "    <tr>\n",
       "      <th>2017-01-05</th>\n",
       "      <td>1.006200</td>\n",
       "      <td>1.032603</td>\n",
       "      <td>1.003961</td>\n",
       "      <td>1.033885</td>\n",
       "      <td>1.035533</td>\n",
       "    </tr>\n",
       "    <tr>\n",
       "      <th>2017-01-06</th>\n",
       "      <td>1.021287</td>\n",
       "      <td>1.056050</td>\n",
       "      <td>1.015153</td>\n",
       "      <td>1.028081</td>\n",
       "      <td>1.056152</td>\n",
       "    </tr>\n",
       "    <tr>\n",
       "      <th>2017-01-09</th>\n",
       "      <td>1.023725</td>\n",
       "      <td>1.068800</td>\n",
       "      <td>1.024451</td>\n",
       "      <td>1.027139</td>\n",
       "      <td>1.057386</td>\n",
       "    </tr>\n",
       "    <tr>\n",
       "      <th>...</th>\n",
       "      <td>...</td>\n",
       "      <td>...</td>\n",
       "      <td>...</td>\n",
       "      <td>...</td>\n",
       "      <td>...</td>\n",
       "    </tr>\n",
       "    <tr>\n",
       "      <th>2021-07-01</th>\n",
       "      <td>3.030767</td>\n",
       "      <td>3.032603</td>\n",
       "      <td>5.007410</td>\n",
       "      <td>4.184956</td>\n",
       "      <td>4.555004</td>\n",
       "    </tr>\n",
       "    <tr>\n",
       "      <th>2021-07-02</th>\n",
       "      <td>3.100395</td>\n",
       "      <td>3.035256</td>\n",
       "      <td>5.105538</td>\n",
       "      <td>4.188407</td>\n",
       "      <td>4.658511</td>\n",
       "    </tr>\n",
       "    <tr>\n",
       "      <th>2021-07-06</th>\n",
       "      <td>3.123476</td>\n",
       "      <td>3.018826</td>\n",
       "      <td>5.180684</td>\n",
       "      <td>4.248490</td>\n",
       "      <td>4.877121</td>\n",
       "    </tr>\n",
       "    <tr>\n",
       "      <th>2021-07-07</th>\n",
       "      <td>3.130506</td>\n",
       "      <td>2.999230</td>\n",
       "      <td>5.273704</td>\n",
       "      <td>4.203938</td>\n",
       "      <td>4.904773</td>\n",
       "    </tr>\n",
       "    <tr>\n",
       "      <th>2021-07-08</th>\n",
       "      <td>3.095110</td>\n",
       "      <td>2.957813</td>\n",
       "      <td>5.225187</td>\n",
       "      <td>4.163150</td>\n",
       "      <td>4.950987</td>\n",
       "    </tr>\n",
       "  </tbody>\n",
       "</table>\n",
       "<p>1136 rows × 5 columns</p>\n",
       "</div>"
      ],
      "text/plain": [
       "               GOOGL        FB      AAPL      NFLX      AMZN\n",
       "Date                                                        \n",
       "2017-01-03       NaN       NaN       NaN       NaN       NaN\n",
       "2017-01-04  0.999703  1.015660  0.998881  1.015060  1.004657\n",
       "2017-01-05  1.006200  1.032603  1.003961  1.033885  1.035533\n",
       "2017-01-06  1.021287  1.056050  1.015153  1.028081  1.056152\n",
       "2017-01-09  1.023725  1.068800  1.024451  1.027139  1.057386\n",
       "...              ...       ...       ...       ...       ...\n",
       "2021-07-01  3.030767  3.032603  5.007410  4.184956  4.555004\n",
       "2021-07-02  3.100395  3.035256  5.105538  4.188407  4.658511\n",
       "2021-07-06  3.123476  3.018826  5.180684  4.248490  4.877121\n",
       "2021-07-07  3.130506  2.999230  5.273704  4.203938  4.904773\n",
       "2021-07-08  3.095110  2.957813  5.225187  4.163150  4.950987\n",
       "\n",
       "[1136 rows x 5 columns]"
      ]
     },
     "execution_count": 12,
     "metadata": {},
     "output_type": "execute_result"
    }
   ],
   "source": [
    "for a in range(thelen):\n",
    "    ticker_rx = df_stocks[[tickers[a]]].pct_change()\n",
    "    ticker_rx = (ticker_rx+1).cumprod()\n",
    "    ticker_rx2.append(ticker_rx[[tickers[a]]])\n",
    "ticker_final = pd.concat(ticker_rx2,axis=1)\n",
    "ticker_final"
   ]
  },
  {
   "cell_type": "code",
   "execution_count": 14,
   "metadata": {},
   "outputs": [
    {
     "data": {
      "image/png": "[encoded data removed]",
      "text/plain": [
       "<Figure size 432x288 with 1 Axes>"
      ]
     },
     "metadata": {
      "needs_background": "light"
     },
     "output_type": "display_data"
    }
   ],
   "source": [
    "#Plot graph of Cumulative/HPR of all stocks\n",
    "for i, col in enumerate(ticker_final.columns):\n",
    "    ticker_final[col].plot()\n",
    "plt.title('Cumulative Returns')\n",
    "plt.xticks(rotation=80)\n",
    "plt.legend(ticker_final.columns)\n",
    "#Saving the graph into a JPG file\n",
    "plt.savefig('CR.png', bbox_inches='tight')"
   ]
  },
  {
   "cell_type": "code",
   "execution_count": 25,
   "metadata": {},
   "outputs": [
    {
     "data": {
      "text/html": [
       "<div>\n",
       "<style scoped>\n",
       "    .dataframe tbody tr th:only-of-type {\n",
       "        vertical-align: middle;\n",
       "    }\n",
       "\n",
       "    .dataframe tbody tr th {\n",
       "        vertical-align: top;\n",
       "    }\n",
       "\n",
       "    .dataframe thead th {\n",
       "        text-align: right;\n",
       "    }\n",
       "</style>\n",
       "<table border=\"1\" class=\"dataframe\">\n",
       "  <thead>\n",
       "    <tr style=\"text-align: right;\">\n",
       "      <th></th>\n",
       "      <th>GOOGL</th>\n",
       "      <th>FB</th>\n",
       "      <th>AAPL</th>\n",
       "      <th>NFLX</th>\n",
       "      <th>AMZN</th>\n",
       "    </tr>\n",
       "    <tr>\n",
       "      <th>Date</th>\n",
       "      <th></th>\n",
       "      <th></th>\n",
       "      <th></th>\n",
       "      <th></th>\n",
       "      <th></th>\n",
       "    </tr>\n",
       "  </thead>\n",
       "  <tbody>\n",
       "    <tr>\n",
       "      <th>2021-07-01</th>\n",
       "      <td>3.030767</td>\n",
       "      <td>3.032603</td>\n",
       "      <td>5.007410</td>\n",
       "      <td>4.184956</td>\n",
       "      <td>4.555004</td>\n",
       "    </tr>\n",
       "    <tr>\n",
       "      <th>2021-07-02</th>\n",
       "      <td>3.100395</td>\n",
       "      <td>3.035256</td>\n",
       "      <td>5.105538</td>\n",
       "      <td>4.188407</td>\n",
       "      <td>4.658511</td>\n",
       "    </tr>\n",
       "    <tr>\n",
       "      <th>2021-07-06</th>\n",
       "      <td>3.123476</td>\n",
       "      <td>3.018826</td>\n",
       "      <td>5.180684</td>\n",
       "      <td>4.248490</td>\n",
       "      <td>4.877121</td>\n",
       "    </tr>\n",
       "    <tr>\n",
       "      <th>2021-07-07</th>\n",
       "      <td>3.130506</td>\n",
       "      <td>2.999230</td>\n",
       "      <td>5.273704</td>\n",
       "      <td>4.203938</td>\n",
       "      <td>4.904773</td>\n",
       "    </tr>\n",
       "    <tr>\n",
       "      <th>2021-07-08</th>\n",
       "      <td>3.095110</td>\n",
       "      <td>2.957813</td>\n",
       "      <td>5.225187</td>\n",
       "      <td>4.163150</td>\n",
       "      <td>4.950987</td>\n",
       "    </tr>\n",
       "  </tbody>\n",
       "</table>\n",
       "</div>"
      ],
      "text/plain": [
       "               GOOGL        FB      AAPL      NFLX      AMZN\n",
       "Date                                                        \n",
       "2021-07-01  3.030767  3.032603  5.007410  4.184956  4.555004\n",
       "2021-07-02  3.100395  3.035256  5.105538  4.188407  4.658511\n",
       "2021-07-06  3.123476  3.018826  5.180684  4.248490  4.877121\n",
       "2021-07-07  3.130506  2.999230  5.273704  4.203938  4.904773\n",
       "2021-07-08  3.095110  2.957813  5.225187  4.163150  4.950987"
      ]
     },
     "execution_count": 25,
     "metadata": {},
     "output_type": "execute_result"
    }
   ],
   "source": [
    "ticker_final.tail()"
   ]
  },
  {
   "cell_type": "code",
   "execution_count": 26,
   "metadata": {},
   "outputs": [
    {
     "data": {
      "text/html": [
       "<div>\n",
       "<style scoped>\n",
       "    .dataframe tbody tr th:only-of-type {\n",
       "        vertical-align: middle;\n",
       "    }\n",
       "\n",
       "    .dataframe tbody tr th {\n",
       "        vertical-align: top;\n",
       "    }\n",
       "\n",
       "    .dataframe thead th {\n",
       "        text-align: right;\n",
       "    }\n",
       "</style>\n",
       "<table border=\"1\" class=\"dataframe\">\n",
       "  <thead>\n",
       "    <tr style=\"text-align: right;\">\n",
       "      <th></th>\n",
       "      <th>GOOGL</th>\n",
       "      <th>FB</th>\n",
       "      <th>AAPL</th>\n",
       "      <th>NFLX</th>\n",
       "      <th>AMZN</th>\n",
       "    </tr>\n",
       "    <tr>\n",
       "      <th>Date</th>\n",
       "      <th></th>\n",
       "      <th></th>\n",
       "      <th></th>\n",
       "      <th></th>\n",
       "      <th></th>\n",
       "    </tr>\n",
       "  </thead>\n",
       "  <tbody>\n",
       "    <tr>\n",
       "      <th>2021-07-01</th>\n",
       "      <td>2448.889893</td>\n",
       "      <td>354.390015</td>\n",
       "      <td>137.270004</td>\n",
       "      <td>533.539978</td>\n",
       "      <td>3432.969971</td>\n",
       "    </tr>\n",
       "    <tr>\n",
       "      <th>2021-07-02</th>\n",
       "      <td>2505.149902</td>\n",
       "      <td>354.700012</td>\n",
       "      <td>139.960007</td>\n",
       "      <td>533.979980</td>\n",
       "      <td>3510.979980</td>\n",
       "    </tr>\n",
       "    <tr>\n",
       "      <th>2021-07-06</th>\n",
       "      <td>2523.800049</td>\n",
       "      <td>352.779999</td>\n",
       "      <td>142.020004</td>\n",
       "      <td>541.640015</td>\n",
       "      <td>3675.739990</td>\n",
       "    </tr>\n",
       "    <tr>\n",
       "      <th>2021-07-07</th>\n",
       "      <td>2529.479980</td>\n",
       "      <td>350.489990</td>\n",
       "      <td>144.570007</td>\n",
       "      <td>535.960022</td>\n",
       "      <td>3696.580078</td>\n",
       "    </tr>\n",
       "    <tr>\n",
       "      <th>2021-07-08</th>\n",
       "      <td>2500.879883</td>\n",
       "      <td>345.649994</td>\n",
       "      <td>143.240005</td>\n",
       "      <td>530.760010</td>\n",
       "      <td>3731.409912</td>\n",
       "    </tr>\n",
       "  </tbody>\n",
       "</table>\n",
       "</div>"
      ],
      "text/plain": [
       "                  GOOGL          FB        AAPL        NFLX         AMZN\n",
       "Date                                                                    \n",
       "2021-07-01  2448.889893  354.390015  137.270004  533.539978  3432.969971\n",
       "2021-07-02  2505.149902  354.700012  139.960007  533.979980  3510.979980\n",
       "2021-07-06  2523.800049  352.779999  142.020004  541.640015  3675.739990\n",
       "2021-07-07  2529.479980  350.489990  144.570007  535.960022  3696.580078\n",
       "2021-07-08  2500.879883  345.649994  143.240005  530.760010  3731.409912"
      ]
     },
     "execution_count": 26,
     "metadata": {},
     "output_type": "execute_result"
    }
   ],
   "source": [
    "df_stocks.tail()"
   ]
  },
  {
   "cell_type": "code",
   "execution_count": 45,
   "metadata": {},
   "outputs": [],
   "source": [
    "#Taking Latest Values of Return\n",
    "pret = [] # RETURNS\n",
    "pre1 = []\n",
    "price =[] # PRICES\n",
    "for x in range(thelen):\n",
    "    pret.append(ticker_final.iloc[[-1],[x]])\n",
    "    price.append((df_stocks.iloc[[-1],[x]]))"
   ]
  },
  {
   "cell_type": "code",
   "execution_count": 46,
   "metadata": {},
   "outputs": [
    {
     "data": {
      "text/plain": [
       "([              GOOGL\n",
       "  Date               \n",
       "  2021-07-08  3.09511,\n",
       "                    FB\n",
       "  Date                \n",
       "  2021-07-08  2.957813,\n",
       "                  AAPL\n",
       "  Date                \n",
       "  2021-07-08  5.225187,\n",
       "                 NFLX\n",
       "  Date               \n",
       "  2021-07-08  4.16315,\n",
       "                  AMZN\n",
       "  Date                \n",
       "  2021-07-08  4.950987],\n",
       " [                  GOOGL\n",
       "  Date                   \n",
       "  2021-07-08  2500.879883,\n",
       "                      FB\n",
       "  Date                  \n",
       "  2021-07-08  345.649994,\n",
       "                    AAPL\n",
       "  Date                  \n",
       "  2021-07-08  143.240005,\n",
       "                   NFLX\n",
       "  Date                 \n",
       "  2021-07-08  530.76001,\n",
       "                     AMZN\n",
       "  Date                   \n",
       "  2021-07-08  3731.409912])"
      ]
     },
     "execution_count": 46,
     "metadata": {},
     "output_type": "execute_result"
    }
   ],
   "source": [
    "pret,price"
   ]
  },
  {
   "cell_type": "code",
   "execution_count": 47,
   "metadata": {},
   "outputs": [
    {
     "data": {
      "text/html": [
       "<div>\n",
       "<style scoped>\n",
       "    .dataframe tbody tr th:only-of-type {\n",
       "        vertical-align: middle;\n",
       "    }\n",
       "\n",
       "    .dataframe tbody tr th {\n",
       "        vertical-align: top;\n",
       "    }\n",
       "\n",
       "    .dataframe thead th {\n",
       "        text-align: right;\n",
       "    }\n",
       "</style>\n",
       "<table border=\"1\" class=\"dataframe\">\n",
       "  <thead>\n",
       "    <tr style=\"text-align: right;\">\n",
       "      <th></th>\n",
       "      <th>GOOGL</th>\n",
       "      <th>FB</th>\n",
       "      <th>AAPL</th>\n",
       "      <th>NFLX</th>\n",
       "      <th>AMZN</th>\n",
       "    </tr>\n",
       "    <tr>\n",
       "      <th>Date</th>\n",
       "      <th></th>\n",
       "      <th></th>\n",
       "      <th></th>\n",
       "      <th></th>\n",
       "      <th></th>\n",
       "    </tr>\n",
       "  </thead>\n",
       "  <tbody>\n",
       "    <tr>\n",
       "      <th>2021-07-08</th>\n",
       "      <td>3.09511</td>\n",
       "      <td>2.957813</td>\n",
       "      <td>5.225187</td>\n",
       "      <td>4.16315</td>\n",
       "      <td>4.950987</td>\n",
       "    </tr>\n",
       "  </tbody>\n",
       "</table>\n",
       "</div>"
      ],
      "text/plain": [
       "              GOOGL        FB      AAPL     NFLX      AMZN\n",
       "Date                                                      \n",
       "2021-07-08  3.09511  2.957813  5.225187  4.16315  4.950987"
      ]
     },
     "metadata": {},
     "output_type": "display_data"
    }
   ],
   "source": [
    "pre1 = pd.concat(pret,axis=1)\n",
    "display(pre1) # commulative returns each stock\n",
    "pre1 = np.array(pre1)"
   ]
  },
  {
   "cell_type": "code",
   "execution_count": 48,
   "metadata": {},
   "outputs": [
    {
     "data": {
      "text/html": [
       "<div>\n",
       "<style scoped>\n",
       "    .dataframe tbody tr th:only-of-type {\n",
       "        vertical-align: middle;\n",
       "    }\n",
       "\n",
       "    .dataframe tbody tr th {\n",
       "        vertical-align: top;\n",
       "    }\n",
       "\n",
       "    .dataframe thead th {\n",
       "        text-align: right;\n",
       "    }\n",
       "</style>\n",
       "<table border=\"1\" class=\"dataframe\">\n",
       "  <thead>\n",
       "    <tr style=\"text-align: right;\">\n",
       "      <th></th>\n",
       "      <th>GOOGL</th>\n",
       "      <th>FB</th>\n",
       "      <th>AAPL</th>\n",
       "      <th>NFLX</th>\n",
       "      <th>AMZN</th>\n",
       "    </tr>\n",
       "    <tr>\n",
       "      <th>Date</th>\n",
       "      <th></th>\n",
       "      <th></th>\n",
       "      <th></th>\n",
       "      <th></th>\n",
       "      <th></th>\n",
       "    </tr>\n",
       "  </thead>\n",
       "  <tbody>\n",
       "    <tr>\n",
       "      <th>2021-07-08</th>\n",
       "      <td>2500.879883</td>\n",
       "      <td>345.649994</td>\n",
       "      <td>143.240005</td>\n",
       "      <td>530.76001</td>\n",
       "      <td>3731.409912</td>\n",
       "    </tr>\n",
       "  </tbody>\n",
       "</table>\n",
       "</div>"
      ],
      "text/plain": [
       "                  GOOGL          FB        AAPL       NFLX         AMZN\n",
       "Date                                                                   \n",
       "2021-07-08  2500.879883  345.649994  143.240005  530.76001  3731.409912"
      ]
     },
     "execution_count": 48,
     "metadata": {},
     "output_type": "execute_result"
    }
   ],
   "source": [
    "\n",
    "price = pd.concat(price,axis=1)\n",
    "price"
   ]
  },
  {
   "cell_type": "code",
   "execution_count": 49,
   "metadata": {},
   "outputs": [
    {
     "data": {
      "text/plain": [
       "0.9280394538860985"
      ]
     },
     "execution_count": 49,
     "metadata": {},
     "output_type": "execute_result"
    }
   ],
   "source": [
    "varsigma = pre1.std() # calculo la volatilidad que hay de cada stock del portfolio del ultimo dia\n",
    "varsigma"
   ]
  },
  {
   "cell_type": "code",
   "execution_count": 50,
   "metadata": {},
   "outputs": [
    {
     "data": {
      "text/plain": [
       "array([0.     , 0.     , 0.49048, 0.     , 0.50952])"
      ]
     },
     "execution_count": 50,
     "metadata": {},
     "output_type": "execute_result"
    }
   ],
   "source": [
    "sh_wt"
   ]
  },
  {
   "cell_type": "code",
   "execution_count": 51,
   "metadata": {},
   "outputs": [
    {
     "name": "stdout",
     "output_type": "stream",
     "text": [
      "The weighted expected portfolio return for selected time period is[5.08547655]\n",
      "[5.08547655]\n",
      "0.9280394538860985\n",
      "Date\n",
      "2021-07-08    1971.484336\n",
      "dtype: float64\n"
     ]
    }
   ],
   "source": [
    "\n",
    "ex_rtn=pre1.dot(sh_wt) # last-day cummulative returns * weights_sharpe_ratio portfolio\n",
    "print('The weighted expected portfolio return for selected time period is'+ str(ex_rtn))\n",
    "#ex_rtn = (ex_rtn)**0.5-(1) #Annualizing the cumulative return (will not affect outcome)\n",
    "price=price.dot(sh_wt) #Calculating weighted value | PRICES * weights\n",
    "print(ex_rtn)\n",
    "print(varsigma)\n",
    "print(price) "
   ]
  },
  {
   "cell_type": "markdown",
   "metadata": {},
   "source": [
    "Having calculated the expected portfolio return and the volatility (standard deviation of the expected returns), we will set up and run the Monte Carlo simulation"
   ]
  },
  {
   "cell_type": "code",
   "execution_count": 57,
   "metadata": {},
   "outputs": [
    {
     "data": {
      "text/plain": [
       "array([ 3.85906856,  2.22435003,  3.2954236 , ..., -1.675286  ,\n",
       "        5.61201713,  1.18055004])"
      ]
     },
     "execution_count": 57,
     "metadata": {},
     "output_type": "execute_result"
    }
   ],
   "source": [
    "np.random.normal(3, 2.5, size=1400)"
   ]
  },
  {
   "cell_type": "markdown",
   "metadata": {},
   "source": [
    "Aca vemos un ejemplo de como generar retornos intraday. 1400 minutos tiene 24 horas.\n",
    "Entonces generamos retornos basada en una distribucion normal "
   ]
  },
  {
   "cell_type": "code",
   "execution_count": 91,
   "metadata": {},
   "outputs": [
    {
     "data": {
      "text/plain": [
       "array([ 0.01949095, -0.01770774,  0.02793846, ..., -0.01238096,\n",
       "        0.00279492,  0.0597263 ])"
      ]
     },
     "execution_count": 91,
     "metadata": {},
     "output_type": "execute_result"
    },
    {
     "data": {
      "image/png": "[encoded data removed]",
      "text/plain": [
       "<Figure size 432x288 with 1 Axes>"
      ]
     },
     "metadata": {
      "needs_background": "light"
     },
     "output_type": "display_data"
    }
   ],
   "source": [
    "def generate_returns_intraday():\n",
    "    #varsigma = volatilidad de todos los stocks\n",
    "    # loc es el promedio de retornos\n",
    "    daily_returns=(np.random.normal(loc=ex_rtn/Time,scale=varsigma/math.sqrt(Time),size=Time))\n",
    "    plt.plot(daily_returns)\n",
    "    return daily_returns\n",
    "generate_returns_intraday()"
   ]
  },
  {
   "cell_type": "code",
   "execution_count": 84,
   "metadata": {},
   "outputs": [
    {
     "data": {
      "text/plain": [
       "0.9280394538860985"
      ]
     },
     "execution_count": 84,
     "metadata": {},
     "output_type": "execute_result"
    }
   ],
   "source": [
    "varsigma"
   ]
  },
  {
   "cell_type": "code",
   "execution_count": 83,
   "metadata": {},
   "outputs": [
    {
     "data": {
      "text/plain": [
       "0.024455986939823936"
      ]
     },
     "execution_count": 83,
     "metadata": {},
     "output_type": "execute_result"
    }
   ],
   "source": [
    "varsigma/math.sqrt(Time)"
   ]
  },
  {
   "cell_type": "code",
   "execution_count": 67,
   "metadata": {},
   "outputs": [
    {
     "data": {
      "image/png": "[encoded data removed]",
      "text/plain": [
       "<Figure size 432x288 with 1 Axes>"
      ]
     },
     "metadata": {
      "needs_background": "light"
     },
     "output_type": "display_data"
    }
   ],
   "source": [
    "from scipy.stats import norm\n",
    "import math\n",
    "Time=1440 # 1440 MINUTES - No of days(steps or trading days in this case)\n",
    "lt_price=[]\n",
    "final_res=[]\n",
    "for i in range(100): #10000 runs of simulation\n",
    "    daily_return=(np.random.normal(loc=ex_rtn/Time,scale=varsigma/math.sqrt(Time),size=Time))\n",
    "    final_res.append(daily_return)\n",
    "    plt.plot(daily_return)\n",
    "plt.axhline(np.percentile(daily_returns,5), color='r', linestyle='dashed', linewidth=1)\n",
    "plt.axhline(np.percentile(daily_returns,95), color='g', linestyle='dashed', linewidth=1)\n",
    "plt.axhline(np.mean(daily_returns), color='b', linestyle='solid', linewidth=1)\n",
    "plt.title(\"Range of returns in a day of 1440 minutes | Red dash — Min Loss | Green Dash — Min Gain\")\n",
    "plt.show()"
   ]
  },
  {
   "cell_type": "code",
   "execution_count": 76,
   "metadata": {},
   "outputs": [
    {
     "name": "stdout",
     "output_type": "stream",
     "text": [
      "En total tenemos 144000 retornos extraidos de N simulaciones\n"
     ]
    }
   ],
   "source": [
    "daily_returns=np.concatenate(final_res)\n",
    "print(\"En total tenemos\",len(daily_returns),\"retornos extraidos de N simulaciones\")"
   ]
  },
  {
   "cell_type": "code",
   "execution_count": null,
   "metadata": {},
   "outputs": [],
   "source": []
  },
  {
   "cell_type": "markdown",
   "metadata": {},
   "source": [
    "Visualizing the distribution plot of the returns presents us with the following chart"
   ]
  },
  {
   "cell_type": "code",
   "execution_count": 77,
   "metadata": {},
   "outputs": [
    {
     "data": {
      "image/png": "[encoded data removed]",
      "text/plain": [
       "<Figure size 432x288 with 1 Axes>"
      ]
     },
     "metadata": {
      "needs_background": "light"
     },
     "output_type": "display_data"
    }
   ],
   "source": [
    "plt.hist(daily_returns,bins=15)\n",
    "plt.axvline(np.percentile(daily_returns,5), color='r', linestyle='dashed', linewidth=2)\n",
    "plt.axvline(np.percentile(daily_returns,95), color='r', linestyle='dashed', linewidth=2)\n",
    "plt.show()"
   ]
  },
  {
   "cell_type": "code",
   "execution_count": 82,
   "metadata": {},
   "outputs": [
    {
     "name": "stdout",
     "output_type": "stream",
     "text": [
      "-0.03675595029857778 0.04357768994726397\n",
      "Your portfolio is 100000\n",
      "$Amount required to cover minimum losses for one day is USD 3675.595\n"
     ]
    }
   ],
   "source": [
    "print(np.percentile(daily_returns,5),np.percentile(daily_returns,95)) #VaR - \n",
    "portfolio_value = 100000 #portfolio value\n",
    "print(\"Your portfolio is\",portfolio_value)\n",
    "print('$Amount required to cover minimum losses for one day is USD ' + str(round(portfolio_value* - np.percentile(daily_returns,5),3)))"
   ]
  },
  {
   "cell_type": "markdown",
   "metadata": {},
   "source": [
    "The resulting amount will signify the dollar amount required to cover your losses per day. The result can also be interpreted as the minimum losses that your portfolio will face with a 5% probability."
   ]
  },
  {
   "cell_type": "code",
   "execution_count": null,
   "metadata": {},
   "outputs": [],
   "source": []
  }
 ],
 "metadata": {
  "kernelspec": {
   "display_name": "quant-portfolio-book",
   "language": "python",
   "name": "quant-portfolio-book"
  },
  "language_info": {
   "codemirror_mode": {
    "name": "ipython",
    "version": 3
   },
   "file_extension": ".py",
   "mimetype": "text/x-python",
   "name": "python",
   "nbconvert_exporter": "python",
   "pygments_lexer": "ipython3",
   "version": "3.7.10"
  }
 },
 "nbformat": 4,
 "nbformat_minor": 4
}
