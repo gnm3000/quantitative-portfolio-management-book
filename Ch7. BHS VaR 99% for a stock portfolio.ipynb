{
 "cells": [
  {
   "cell_type": "code",
   "execution_count": 20,
   "metadata": {},
   "outputs": [],
   "source": [
    "# First, data extraction.\n",
    "# Primero, nos descargamos los datos"
   ]
  },
  {
   "cell_type": "code",
   "execution_count": 21,
   "metadata": {},
   "outputs": [],
   "source": [
    "import pandas as pd\n",
    "import yfinance as yf\n",
    "tickers = [\"DPW.DE\",\"ALV.DE\",\"BMW.DE\",\"BAS.DE\",\"FME.DE\"]\n",
    "startinput = \"2019-01-01\"\n",
    "endinput = \"2019-12-31\"\n",
    "S=pd.DataFrame()\n",
    "for t in tickers:\n",
    "    data= yf.download(tickers = t,\n",
    "                        start=startinput,\n",
    "                        end=endinput,\n",
    "                        interval = \"1d\",\n",
    "                        auto_ajust = True,\n",
    "                        threads = True,\n",
    "                           )\n",
    "    display(data[\"Adj Close\"])\n",
    "    S[t]=data[\"Adj Close\"]"
   ]
  },
  {
   "cell_type": "code",
   "execution_count": 22,
   "metadata": {},
   "outputs": [],
   "source": []
  },
  {
   "cell_type": "code",
   "execution_count": 23,
   "metadata": {},
   "outputs": [
    {
     "name": "stdout",
     "output_type": "stream",
     "text": [
      "[*********************100%***********************]  1 of 1 completed\n"
     ]
    },
    {
     "data": {
      "text/plain": [
       "Date\n",
       "2019-01-02    20.769207\n",
       "2019-01-03    20.379623\n",
       "2019-01-04    21.124161\n",
       "2019-01-07    21.279997\n",
       "2019-01-08    21.548378\n",
       "                ...    \n",
       "2019-12-19    30.870659\n",
       "2019-12-20    31.091545\n",
       "2019-12-23    30.667795\n",
       "2019-12-27    31.019417\n",
       "2019-12-30    30.663284\n",
       "Name: Adj Close, Length: 251, dtype: float64"
      ]
     },
     "metadata": {},
     "output_type": "display_data"
    },
    {
     "name": "stdout",
     "output_type": "stream",
     "text": [
      "[*********************100%***********************]  1 of 1 completed\n"
     ]
    },
    {
     "data": {
      "text/plain": [
       "Date\n",
       "2019-01-02    150.678268\n",
       "2019-01-03    149.094009\n",
       "2019-01-04    152.710281\n",
       "2019-01-07    151.470398\n",
       "2019-01-08    151.625397\n",
       "                 ...    \n",
       "2019-12-19    197.003433\n",
       "2019-12-20    198.623016\n",
       "2019-12-23    198.488052\n",
       "2019-12-27    198.488052\n",
       "2019-12-30    196.508575\n",
       "Name: Adj Close, Length: 251, dtype: float64"
      ]
     },
     "metadata": {},
     "output_type": "display_data"
    },
    {
     "name": "stdout",
     "output_type": "stream",
     "text": [
      "[*********************100%***********************]  1 of 1 completed\n"
     ]
    },
    {
     "data": {
      "text/plain": [
       "Date\n",
       "2019-01-02    59.891392\n",
       "2019-01-03    59.298836\n",
       "2019-01-04    61.583191\n",
       "2019-01-07    61.935295\n",
       "2019-01-08    62.012585\n",
       "                ...    \n",
       "2019-12-19    66.995026\n",
       "2019-12-20    67.040237\n",
       "2019-12-23    66.488724\n",
       "2019-12-27    66.461601\n",
       "2019-12-30    66.127075\n",
       "Name: Adj Close, Length: 251, dtype: float64"
      ]
     },
     "metadata": {},
     "output_type": "display_data"
    },
    {
     "name": "stdout",
     "output_type": "stream",
     "text": [
      "[*********************100%***********************]  1 of 1 completed\n"
     ]
    },
    {
     "data": {
      "text/plain": [
       "Date\n",
       "2019-01-02    48.283276\n",
       "2019-01-03    47.726646\n",
       "2019-01-04    50.247360\n",
       "2019-01-07    50.016762\n",
       "2019-01-08    50.271217\n",
       "                ...    \n",
       "2019-12-19    55.965244\n",
       "2019-12-20    56.505852\n",
       "2019-12-23    56.173172\n",
       "2019-12-27    56.472584\n",
       "2019-12-30    56.015144\n",
       "Name: Adj Close, Length: 251, dtype: float64"
      ]
     },
     "metadata": {},
     "output_type": "display_data"
    },
    {
     "name": "stdout",
     "output_type": "stream",
     "text": [
      "[*********************100%***********************]  1 of 1 completed\n"
     ]
    },
    {
     "data": {
      "text/plain": [
       "Date\n",
       "2019-01-02    52.501606\n",
       "2019-01-03    50.979019\n",
       "2019-01-04    54.225971\n",
       "2019-01-07    53.932465\n",
       "2019-01-08    53.272068\n",
       "                ...    \n",
       "2019-12-19    61.578072\n",
       "2019-12-20    61.862541\n",
       "2019-12-23    61.976330\n",
       "2019-12-27    63.190056\n",
       "2019-12-30    62.545269\n",
       "Name: Adj Close, Length: 251, dtype: float64"
      ]
     },
     "metadata": {},
     "output_type": "display_data"
    }
   ],
   "source": []
  },
  {
   "cell_type": "code",
   "execution_count": 6,
   "metadata": {},
   "outputs": [],
   "source": [
    "import numpy as np"
   ]
  },
  {
   "cell_type": "code",
   "execution_count": 24,
   "metadata": {},
   "outputs": [],
   "source": [
    "# BHS Bootstrap Historical Simulation"
   ]
  },
  {
   "cell_type": "code",
   "execution_count": 8,
   "metadata": {},
   "outputs": [],
   "source": [
    "# Second Part. BHS VaR calculation for the portfolio.\n",
    "# Segunda parte. \n",
    "import matplotlib.pyplot as plt\n",
    "# we want to calculate the VaR of the portfolio returns over p days.\n",
    "# for this , we produce s simulations for the portfolio returns over p days.\n",
    "# This is done through the bootstrap, by choosing with replacement p vectors of stocks returns,\n",
    "# amongst the n calculated\n",
    "\n",
    "# Vamos a calcular el VaR del returno del portfolio sobre p dias.\n",
    "# Para esto, vamos a hacer s simulaciones para el portfolio sobre p dias.\n",
    "# Para esto usamos bootstrap, reemplazando p vectors del retorno de los stocks, \n",
    "# entre los n calculados."
   ]
  },
  {
   "cell_type": "code",
   "execution_count": 25,
   "metadata": {},
   "outputs": [],
   "source": [
    "d = len(tickers) # number of stocks considered\n",
    "# cantidad de stocks considerados"
   ]
  },
  {
   "cell_type": "code",
   "execution_count": 10,
   "metadata": {},
   "outputs": [],
   "source": [
    "p = 10 # number of daily returns considered in each bootstrap simulation\n",
    "# numero de daily returns para cada simulacion. Aca vamos a hacer un VaR a 10 dias, por ello p=10.\n",
    "\n",
    "s= 10000 # number of bootstrap simulation\n",
    "# vamos a hacer 10 mil simulaciones bootstrap.\n",
    "\n",
    "R = pd.DataFrame() # creation of data frame that will contain the five stocks returns\n",
    "# en R, es un dataframe pandas donde vamos a guardar los retornos de nuestros 5 stocks."
   ]
  },
  {
   "cell_type": "code",
   "execution_count": 13,
   "metadata": {},
   "outputs": [],
   "source": [
    "# Calculamos los retornos\n",
    "for t in tickers: R[t] = S[t] / S[t].shift(1) -1 # calculate the stock returns form the closing price \n",
    "R= R[1:] # eliminate the first value\n",
    "\n",
    "\n",
    "# Definimos un peso fijo cada para activo. Usamos 1/N.\n",
    "# definition of the weights portfolio\n",
    "w = np.zeros(d)\n",
    "for i in range(d):\n",
    "    w[i] = 1.0/d # arbitraty constant choice \n"
   ]
  },
  {
   "cell_type": "code",
   "execution_count": 19,
   "metadata": {},
   "outputs": [
    {
     "name": "stdout",
     "output_type": "stream",
     "text": [
      "[-0.07270287 -0.07017402]\n",
      "The VaR 99%  is: -7.017 %\n"
     ]
    },
    {
     "data": {
      "image/png": "[encoded data removed]",
      "text/plain": [
       "<Figure size 432x288 with 1 Axes>"
      ]
     },
     "metadata": {
      "needs_background": "light"
     },
     "output_type": "display_data"
    }
   ],
   "source": [
    "### METODO BOOTSTRAP ####\n",
    "\n",
    "\n",
    "# bootstrap method used in each of the s simulations\n",
    "n = len(R.index) # number of vector of returns form the sample \n",
    "perf = np.zeros(s)  # array where the portfolio return is saved for each simulation\n",
    "# En perf vamos a guardar los retornos del portfolio en cada simulacion\n",
    "for i in range(s):\n",
    "    idx = np.random.choice(n,p) # select with replacement p vectors of returns amongst n\n",
    "    RB = R.iloc[idx] # extract the p vectors of returns from the return data frame\n",
    "    RBP = np.prod(RB+1)-1 # calculate the return over p days for each stock\n",
    "    perf[i] = RBP.dot(w) # calculate the portfolio return over p days\n",
    "plt.hist(perf,30,histtype=\"step\") # histogram for the portfolio return with 30 buckets\n",
    "plt.grid(True) # grid added to the histogram\n",
    "\n",
    "var_99 = np.percentile(perf,[0,0.01])\n",
    "print(var_99)\n",
    "var_99_f = round(var_99[1]*100,3)\n",
    "print(\"The VaR 99%  is:\",var_99_f,\"%\")\n"
   ]
  },
  {
   "cell_type": "markdown",
   "metadata": {},
   "source": [
    "The result we get from the program for the VaR99% is -7.01%. So in dollar terms, a one million dollar portfolio is not expected, with a 99% chance, to suffer over a 10 business day period, a loss of over 70.170 USD."
   ]
  },
  {
   "cell_type": "code",
   "execution_count": null,
   "metadata": {},
   "outputs": [],
   "source": []
  }
 ],
 "metadata": {
  "kernelspec": {
   "display_name": "quant-portfolio-book",
   "language": "python",
   "name": "quant-portfolio-book"
  },
  "language_info": {
   "codemirror_mode": {
    "name": "ipython",
    "version": 3
   },
   "file_extension": ".py",
   "mimetype": "text/x-python",
   "name": "python",
   "nbconvert_exporter": "python",
   "pygments_lexer": "ipython3",
   "version": "3.7.10"
  }
 },
 "nbformat": 4,
 "nbformat_minor": 4
}
