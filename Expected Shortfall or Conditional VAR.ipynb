{
 "cells": [
  {
   "cell_type": "markdown",
   "metadata": {},
   "source": [
    "What is the difference?\n",
    "\n",
    "\n",
    "Say we try to assess our VaR (or to put ir simply, our potential losses), at a confidence level of 99%, we will have a range of loss outcomes (or scenarios) in the 1% tail, and,\n",
    "\n",
    "- VAR answer this question: What is the minimum loss over the whole range of outcomes in the 1% tail?\n",
    "- ES answer this question: What is the average loss over the whole range of outcomes in the 1% tail?\n",
    "\n"
   ]
  },
  {
   "cell_type": "code",
   "execution_count": 1,
   "metadata": {},
   "outputs": [],
   "source": [
    "import numpy as np\n",
    "import math\n",
    "from scipy.stats import skew, kurtosis, kurtosistest,norm,t\n",
    "import matplotlib.pyplot as plt\n"
   ]
  },
  {
   "cell_type": "code",
   "execution_count": 2,
   "metadata": {},
   "outputs": [
    {
     "name": "stdout",
     "output_type": "stream",
     "text": [
      "99% VaR is (parametric VaR) -8.54\n"
     ]
    }
   ],
   "source": [
    "h=10 # horizon of 10 days\n",
    "mu_h = 0.1 # this is the mean of % returns over 10 days - 10%.\n",
    "sig = 0.3 # this is the volatility of returns over a year - 30%\n",
    "sig_h=0.3 *np.sqrt(h/252) # this is the vol over the horizon\n",
    "alpha = 0.01\n",
    "\n",
    "## ppf if the perecnt point function, iverse of CDF.\n",
    "# here we have mean=0, std=1 distribution\n",
    "# as we have not specified the shapre of ppf\n",
    "# so you can think of this as upscaling by sig_h and shifting mean by mu_h\n",
    "\n",
    "VaR_n = norm.pdf(1-alpha)*sig_h -mu_h\n",
    "\n",
    "print(\"99% VaR is (parametric VaR)\",round(VaR_n*100,2))"
   ]
  },
  {
   "cell_type": "markdown",
   "metadata": {},
   "source": [
    "The above is parametric VaR, this mean we asume a certain distribution of returns. Most entites, where VaR is used,\n",
    "would typically use empirical VaR, which does not assume any distribution shape."
   ]
  },
  {
   "cell_type": "markdown",
   "metadata": {},
   "source": [
    "# Conditional VaR // expected shortfall"
   ]
  },
  {
   "cell_type": "markdown",
   "metadata": {},
   "source": [
    "Its the expected (mean) value of X, given that X is more than x at a specified alpha.\n"
   ]
  },
  {
   "cell_type": "code",
   "execution_count": 4,
   "metadata": {},
   "outputs": [
    {
     "name": "stdout",
     "output_type": "stream",
     "text": [
      "99% CVaR/ES is  210.18\n"
     ]
    }
   ],
   "source": [
    "CVaR_n = alpha**-1 * norm.pdf(norm.pdf(alpha))*sig_h - mu_h\n",
    "\n",
    "print(\"99% CVaR/ES is \",round(CVaR_n*100,2))"
   ]
  },
  {
   "cell_type": "code",
   "execution_count": null,
   "metadata": {},
   "outputs": [],
   "source": []
  }
 ],
 "metadata": {
  "kernelspec": {
   "display_name": "quant-portfolio-book",
   "language": "python",
   "name": "quant-portfolio-book"
  },
  "language_info": {
   "codemirror_mode": {
    "name": "ipython",
    "version": 3
   },
   "file_extension": ".py",
   "mimetype": "text/x-python",
   "name": "python",
   "nbconvert_exporter": "python",
   "pygments_lexer": "ipython3",
   "version": "3.7.10"
  }
 },
 "nbformat": 4,
 "nbformat_minor": 2
}
