{
 "cells": [
  {
   "cell_type": "code",
   "execution_count": 11,
   "metadata": {},
   "outputs": [],
   "source": [
    "#!pip install sklearn"
   ]
  },
  {
   "cell_type": "code",
   "execution_count": 23,
   "metadata": {},
   "outputs": [],
   "source": [
    "import pandas as pd\n",
    "import matplotlib.pyplot as plt\n",
    "import numpy as np"
   ]
  },
  {
   "cell_type": "code",
   "execution_count": 5,
   "metadata": {},
   "outputs": [
    {
     "name": "stdout",
     "output_type": "stream",
     "text": [
      "[*********************100%***********************]  1 of 1 completed\n"
     ]
    },
    {
     "data": {
      "text/plain": [
       "Date\n",
       "2017-01-02    25.519751\n",
       "2017-01-03    25.601025\n",
       "2017-01-04    25.458797\n",
       "2017-01-05    25.889545\n",
       "2017-01-06    25.901737\n",
       "                ...    \n",
       "2017-12-21    34.169418\n",
       "2017-12-22    33.993137\n",
       "2017-12-27    34.089676\n",
       "2017-12-28    33.690941\n",
       "2017-12-29    33.367756\n",
       "Name: Adj Close, Length: 255, dtype: float64"
      ]
     },
     "metadata": {},
     "output_type": "display_data"
    },
    {
     "name": "stdout",
     "output_type": "stream",
     "text": [
      "[*********************100%***********************]  1 of 1 completed\n"
     ]
    },
    {
     "data": {
      "text/plain": [
       "Date\n",
       "2017-01-02    124.379189\n",
       "2017-01-03    126.158302\n",
       "2017-01-04    126.830399\n",
       "2017-01-05    127.067619\n",
       "2017-01-06    127.383919\n",
       "                 ...    \n",
       "2017-12-21    162.166214\n",
       "2017-12-22    161.339890\n",
       "2017-12-27    160.389618\n",
       "2017-12-28    159.687241\n",
       "2017-12-29    158.241165\n",
       "Name: Adj Close, Length: 255, dtype: float64"
      ]
     },
     "metadata": {},
     "output_type": "display_data"
    },
    {
     "name": "stdout",
     "output_type": "stream",
     "text": [
      "[*********************100%***********************]  1 of 1 completed\n"
     ]
    },
    {
     "data": {
      "text/plain": [
       "Date\n",
       "2017-01-02    71.088478\n",
       "2017-01-03    71.760010\n",
       "2017-01-04    71.246475\n",
       "2017-01-05    71.372887\n",
       "2017-01-06    71.507202\n",
       "                ...    \n",
       "2017-12-21    72.201233\n",
       "2017-12-22    71.938210\n",
       "2017-12-27    71.724503\n",
       "2017-12-28    71.625862\n",
       "2017-12-29    71.371056\n",
       "Name: Adj Close, Length: 255, dtype: float64"
      ]
     },
     "metadata": {},
     "output_type": "display_data"
    },
    {
     "name": "stdout",
     "output_type": "stream",
     "text": [
      "[*********************100%***********************]  1 of 1 completed\n"
     ]
    },
    {
     "data": {
      "text/plain": [
       "Date\n",
       "2017-01-02    12.294727\n",
       "2017-01-03    12.249816\n",
       "2017-01-04    12.395782\n",
       "2017-01-05    12.433209\n",
       "2017-01-06    12.388295\n",
       "                ...    \n",
       "2017-12-21    12.075611\n",
       "2017-12-22    12.043506\n",
       "2017-12-27    12.035480\n",
       "2017-12-28    11.903045\n",
       "2017-12-29    11.874951\n",
       "Name: Adj Close, Length: 255, dtype: float64"
      ]
     },
     "metadata": {},
     "output_type": "display_data"
    },
    {
     "name": "stdout",
     "output_type": "stream",
     "text": [
      "[*********************100%***********************]  1 of 1 completed\n"
     ]
    },
    {
     "data": {
      "text/plain": [
       "Date\n",
       "2017-01-02    73.658379\n",
       "2017-01-03    72.816055\n",
       "2017-01-04    72.466576\n",
       "2017-01-05    72.170868\n",
       "2017-01-06    72.224625\n",
       "                ...    \n",
       "2017-12-21    79.213821\n",
       "2017-12-22    79.956940\n",
       "2017-12-27    80.101929\n",
       "2017-12-28    79.902557\n",
       "2017-12-29    79.549133\n",
       "Name: Adj Close, Length: 255, dtype: float64"
      ]
     },
     "metadata": {},
     "output_type": "display_data"
    },
    {
     "name": "stdout",
     "output_type": "stream",
     "text": [
      "[*********************100%***********************]  1 of 1 completed\n"
     ]
    },
    {
     "data": {
      "text/plain": [
       "Date\n",
       "2017-01-02    65.737350\n",
       "2017-01-03    64.996231\n",
       "2017-01-04    65.329735\n",
       "2017-01-05    65.062943\n",
       "2017-01-06    64.862839\n",
       "                ...    \n",
       "2017-12-21    71.842049\n",
       "2017-12-22    71.704018\n",
       "2017-12-27    71.765358\n",
       "2017-12-28    71.144257\n",
       "2017-12-29    70.346771\n",
       "Name: Adj Close, Length: 255, dtype: float64"
      ]
     },
     "metadata": {},
     "output_type": "display_data"
    },
    {
     "name": "stdout",
     "output_type": "stream",
     "text": [
      "[*********************100%***********************]  1 of 1 completed\n"
     ]
    },
    {
     "data": {
      "text/plain": [
       "Date\n",
       "2017-01-02    102.382362\n",
       "2017-01-03    100.823021\n",
       "2017-01-04    100.912125\n",
       "2017-01-05    101.179436\n",
       "2017-01-06    100.778458\n",
       "                 ...    \n",
       "2017-12-21     99.642021\n",
       "2017-12-22     99.777473\n",
       "2017-12-27     99.687172\n",
       "2017-12-28     99.687172\n",
       "2017-12-29     99.642021\n",
       "Name: Adj Close, Length: 255, dtype: float64"
      ]
     },
     "metadata": {},
     "output_type": "display_data"
    },
    {
     "name": "stdout",
     "output_type": "stream",
     "text": [
      "[*********************100%***********************]  1 of 1 completed\n"
     ]
    },
    {
     "data": {
      "text/plain": [
       "Date\n",
       "2017-01-02    100.264664\n",
       "2017-01-03    102.648094\n",
       "2017-01-04    102.264488\n",
       "2017-01-05     98.934761\n",
       "2017-01-06    100.056480\n",
       "                 ...    \n",
       "2017-12-21    119.108170\n",
       "2017-12-22    119.460716\n",
       "2017-12-27    118.054161\n",
       "2017-12-28    119.687119\n",
       "2017-12-29    120.197403\n",
       "Name: Adj Close, Length: 255, dtype: float64"
      ]
     },
     "metadata": {},
     "output_type": "display_data"
    },
    {
     "name": "stdout",
     "output_type": "stream",
     "text": [
      "[*********************100%***********************]  1 of 1 completed\n"
     ]
    },
    {
     "data": {
      "text/plain": [
       "Date\n",
       "2017-01-02    76.573524\n",
       "2017-01-03    75.977722\n",
       "2017-01-04    75.556084\n",
       "2017-01-05    75.794403\n",
       "2017-01-06    76.683517\n",
       "                ...    \n",
       "2017-12-21    88.572777\n",
       "2017-12-22    87.848297\n",
       "2017-12-27    88.219841\n",
       "2017-12-28    87.207420\n",
       "2017-12-29    86.798729\n",
       "Name: Adj Close, Length: 255, dtype: float64"
      ]
     },
     "metadata": {},
     "output_type": "display_data"
    },
    {
     "name": "stdout",
     "output_type": "stream",
     "text": [
      "[*********************100%***********************]  1 of 1 completed\n"
     ]
    },
    {
     "data": {
      "text/plain": [
       "Date\n",
       "2017-01-02    15.056913\n",
       "2017-01-03    15.202807\n",
       "2017-01-04    15.670518\n",
       "2017-01-05    15.546081\n",
       "2017-01-06    15.722010\n",
       "                ...    \n",
       "2017-12-21    16.066418\n",
       "2017-12-22    15.867046\n",
       "2017-12-27    15.628773\n",
       "2017-12-28    15.502341\n",
       "2017-12-29    15.439127\n",
       "Name: Adj Close, Length: 255, dtype: float64"
      ]
     },
     "metadata": {},
     "output_type": "display_data"
    },
    {
     "name": "stdout",
     "output_type": "stream",
     "text": [
      "[*********************100%***********************]  1 of 1 completed\n"
     ]
    },
    {
     "data": {
      "text/plain": [
       "Date\n",
       "2017-01-02    80.257187\n",
       "2017-01-03    80.697731\n",
       "2017-01-04    81.738991\n",
       "2017-01-05    82.219566\n",
       "2017-01-06    82.019325\n",
       "                ...    \n",
       "2017-12-21    89.014801\n",
       "2017-12-22    88.678429\n",
       "2017-12-27    88.762520\n",
       "2017-12-28    87.795425\n",
       "2017-12-29    87.459053\n",
       "Name: Adj Close, Length: 255, dtype: float64"
      ]
     },
     "metadata": {},
     "output_type": "display_data"
    },
    {
     "name": "stdout",
     "output_type": "stream",
     "text": [
      "[*********************100%***********************]  1 of 1 completed\n"
     ]
    },
    {
     "data": {
      "text/plain": [
       "Date\n",
       "2017-01-02    123.859940\n",
       "2017-01-03    126.287674\n",
       "2017-01-04    124.759094\n",
       "2017-01-05    125.073807\n",
       "2017-01-06    124.983887\n",
       "                 ...    \n",
       "2017-12-21    155.298248\n",
       "2017-12-22    154.158035\n",
       "2017-12-27    152.926575\n",
       "2017-12-28    152.789764\n",
       "2017-12-29    151.831985\n",
       "Name: Adj Close, Length: 255, dtype: float64"
      ]
     },
     "metadata": {},
     "output_type": "display_data"
    },
    {
     "name": "stdout",
     "output_type": "stream",
     "text": [
      "[*********************100%***********************]  1 of 1 completed\n"
     ]
    },
    {
     "data": {
      "text/plain": [
       "Date\n",
       "2017-01-02    74.021507\n",
       "2017-01-03    73.186272\n",
       "2017-01-04    71.714287\n",
       "2017-01-05    71.830055\n",
       "2017-01-06    71.887939\n",
       "                ...    \n",
       "2017-12-21    75.921822\n",
       "2017-12-22    75.896553\n",
       "2017-12-27    75.618645\n",
       "2017-12-28    76.443962\n",
       "2017-12-29    76.006035\n",
       "Name: Adj Close, Length: 255, dtype: float64"
      ]
     },
     "metadata": {},
     "output_type": "display_data"
    },
    {
     "name": "stdout",
     "output_type": "stream",
     "text": [
      "[*********************100%***********************]  1 of 1 completed\n"
     ]
    },
    {
     "data": {
      "text/plain": [
       "Date\n",
       "2017-01-02    68.007309\n",
       "2017-01-03    66.968910\n",
       "2017-01-04    68.018219\n",
       "2017-01-05    67.857277\n",
       "2017-01-06    68.165512\n",
       "                ...    \n",
       "2017-12-21    60.140617\n",
       "2017-12-22    60.117706\n",
       "2017-12-27    60.023319\n",
       "2017-12-28    59.945423\n",
       "2017-12-29    59.397392\n",
       "Name: Adj Close, Length: 255, dtype: float64"
      ]
     },
     "metadata": {},
     "output_type": "display_data"
    },
    {
     "name": "stdout",
     "output_type": "stream",
     "text": [
      "[*********************100%***********************]  1 of 1 completed\n"
     ]
    },
    {
     "data": {
      "text/plain": [
       "Date\n",
       "2017-01-02    94.006439\n",
       "2017-01-03    94.192131\n",
       "2017-01-04    94.192131\n",
       "2017-01-05    95.631248\n",
       "2017-01-06    94.842056\n",
       "                ...    \n",
       "2017-12-21    84.689713\n",
       "2017-12-22    84.764824\n",
       "2017-12-27    85.281227\n",
       "2017-12-28    85.224892\n",
       "2017-12-29    84.267197\n",
       "Name: Adj Close, Length: 255, dtype: float64"
      ]
     },
     "metadata": {},
     "output_type": "display_data"
    },
    {
     "name": "stdout",
     "output_type": "stream",
     "text": [
      "[*********************100%***********************]  1 of 1 completed\n"
     ]
    },
    {
     "data": {
      "text/plain": [
       "Date\n",
       "2017-01-02    78.809319\n",
       "2017-01-03    78.077736\n",
       "2017-01-04    77.471291\n",
       "2017-01-05    77.779320\n",
       "2017-01-06    77.529053\n",
       "                ...    \n",
       "2017-12-21    95.680626\n",
       "2017-12-22    95.467209\n",
       "2017-12-27    95.690331\n",
       "2017-12-28    94.700836\n",
       "2017-12-29    94.972466\n",
       "Name: Adj Close, Length: 255, dtype: float64"
      ]
     },
     "metadata": {},
     "output_type": "display_data"
    },
    {
     "name": "stdout",
     "output_type": "stream",
     "text": [
      "[*********************100%***********************]  1 of 1 completed\n"
     ]
    },
    {
     "data": {
      "text/plain": [
       "Date\n",
       "2017-01-02    100.479469\n",
       "2017-01-03     98.988663\n",
       "2017-01-04     98.562729\n",
       "2017-01-05     97.923820\n",
       "2017-01-06     98.775703\n",
       "                 ...    \n",
       "2017-12-21    103.250801\n",
       "2017-12-22    103.075272\n",
       "2017-12-27    103.557953\n",
       "2017-12-28    102.504829\n",
       "2017-12-29    101.934380\n",
       "Name: Adj Close, Length: 255, dtype: float64"
      ]
     },
     "metadata": {},
     "output_type": "display_data"
    },
    {
     "name": "stdout",
     "output_type": "stream",
     "text": [
      "[*********************100%***********************]  1 of 1 completed\n"
     ]
    },
    {
     "data": {
      "text/plain": [
       "Date\n",
       "2017-01-02    145.044067\n",
       "2017-01-03    144.802719\n",
       "2017-01-04    145.406067\n",
       "2017-01-05    143.515579\n",
       "2017-01-06    143.475372\n",
       "                 ...    \n",
       "2017-12-21    155.187775\n",
       "2017-12-22    154.639999\n",
       "2017-12-27    154.176514\n",
       "2017-12-28    153.038834\n",
       "2017-12-29    152.322510\n",
       "Name: Adj Close, Length: 255, dtype: float64"
      ]
     },
     "metadata": {},
     "output_type": "display_data"
    },
    {
     "name": "stdout",
     "output_type": "stream",
     "text": [
      "[*********************100%***********************]  1 of 1 completed\n"
     ]
    },
    {
     "data": {
      "text/plain": [
       "Date\n",
       "2017-01-02    68.894844\n",
       "2017-01-03    69.458664\n",
       "2017-01-04    69.002228\n",
       "2017-01-05    68.366798\n",
       "2017-01-06    67.516586\n",
       "                ...    \n",
       "2017-12-21    88.869354\n",
       "2017-12-22    88.731621\n",
       "2017-12-27    88.860176\n",
       "2017-12-28    88.630608\n",
       "2017-12-29    88.887733\n",
       "Name: Adj Close, Length: 255, dtype: float64"
      ]
     },
     "metadata": {},
     "output_type": "display_data"
    },
    {
     "name": "stdout",
     "output_type": "stream",
     "text": [
      "[*********************100%***********************]  1 of 1 completed\n"
     ]
    },
    {
     "data": {
      "text/plain": [
       "Date\n",
       "2017-01-02    26.027809\n",
       "2017-01-03    25.571182\n",
       "2017-01-04    25.571182\n",
       "2017-01-05    26.073475\n",
       "2017-01-06    25.944786\n",
       "                ...    \n",
       "2017-12-21    34.879726\n",
       "2017-12-22    35.115398\n",
       "2017-12-27    35.423920\n",
       "2017-12-28    35.325363\n",
       "2017-12-29    35.471050\n",
       "Name: Adj Close, Length: 255, dtype: float64"
      ]
     },
     "metadata": {},
     "output_type": "display_data"
    },
    {
     "name": "stdout",
     "output_type": "stream",
     "text": [
      "[*********************100%***********************]  1 of 1 completed\n"
     ]
    },
    {
     "data": {
      "text/plain": [
       "Date\n",
       "2017-01-02    5.437686\n",
       "2017-01-03    5.341634\n",
       "2017-01-04    5.326551\n",
       "2017-01-05    5.325758\n",
       "2017-01-06    5.303531\n",
       "                ...   \n",
       "2017-12-21    7.498502\n",
       "2017-12-22    7.545071\n",
       "2017-12-27    7.482980\n",
       "2017-12-28    7.412716\n",
       "2017-12-29    7.426605\n",
       "Name: Adj Close, Length: 255, dtype: float64"
      ]
     },
     "metadata": {},
     "output_type": "display_data"
    },
    {
     "name": "stdout",
     "output_type": "stream",
     "text": [
      "[*********************100%***********************]  1 of 1 completed\n"
     ]
    },
    {
     "data": {
      "text/plain": [
       "Date\n",
       "2017-01-02    55.757362\n",
       "2017-01-03    56.478020\n",
       "2017-01-04    56.454521\n",
       "2017-01-05    56.438858\n",
       "2017-01-06    56.431023\n",
       "                ...    \n",
       "2017-12-21    58.584473\n",
       "2017-12-22    58.486050\n",
       "2017-12-27    58.428642\n",
       "2017-12-28    58.149788\n",
       "2017-12-29    58.067772\n",
       "Name: Adj Close, Length: 255, dtype: float64"
      ]
     },
     "metadata": {},
     "output_type": "display_data"
    },
    {
     "name": "stdout",
     "output_type": "stream",
     "text": [
      "[*********************100%***********************]  1 of 1 completed\n"
     ]
    },
    {
     "data": {
      "text/plain": [
       "Date\n",
       "2017-01-02    139.296097\n",
       "2017-01-03    137.408722\n",
       "2017-01-04    134.784851\n",
       "2017-01-05    132.851456\n",
       "2017-01-06    133.311783\n",
       "                 ...    \n",
       "2017-12-21    158.001617\n",
       "2017-12-22    157.722275\n",
       "2017-12-27    158.234390\n",
       "2017-12-28    156.744690\n",
       "2017-12-29    155.627411\n",
       "Name: Adj Close, Length: 255, dtype: float64"
      ]
     },
     "metadata": {},
     "output_type": "display_data"
    },
    {
     "name": "stdout",
     "output_type": "stream",
     "text": [
      "[*********************100%***********************]  1 of 1 completed\n"
     ]
    },
    {
     "data": {
      "text/plain": [
       "Date\n",
       "2017-01-02    41.688496\n",
       "2017-01-03    42.199837\n",
       "2017-01-04    41.570110\n",
       "2017-01-05    42.230682\n",
       "2017-01-06    41.683521\n",
       "                ...    \n",
       "2017-12-21    93.564224\n",
       "2017-12-22    94.062965\n",
       "2017-12-27    92.865974\n",
       "2017-12-28    92.566734\n",
       "2017-12-29    92.746284\n",
       "Name: Adj Close, Length: 255, dtype: float64"
      ]
     },
     "metadata": {},
     "output_type": "display_data"
    },
    {
     "name": "stdout",
     "output_type": "stream",
     "text": [
      "[*********************100%***********************]  1 of 1 completed\n"
     ]
    },
    {
     "data": {
      "text/plain": [
       "Date\n",
       "2017-01-02    10.011001\n",
       "2017-01-03     9.928164\n",
       "2017-01-04     9.820473\n",
       "2017-01-05     9.928164\n",
       "2017-01-06     9.774913\n",
       "                ...    \n",
       "2017-12-21    13.846411\n",
       "2017-12-22    14.119780\n",
       "2017-12-27    14.082500\n",
       "2017-12-28    14.007947\n",
       "2017-12-29    14.082500\n",
       "Name: Adj Close, Length: 255, dtype: float64"
      ]
     },
     "metadata": {},
     "output_type": "display_data"
    },
    {
     "name": "stdout",
     "output_type": "stream",
     "text": [
      "[*********************100%***********************]  1 of 1 completed\n"
     ]
    },
    {
     "data": {
      "text/plain": [
       "Date\n",
       "2017-01-02    15.619028\n",
       "2017-01-03    15.685171\n",
       "2017-01-04    15.467845\n",
       "2017-01-05    15.378078\n",
       "2017-01-06    15.326110\n",
       "                ...    \n",
       "2017-12-21    22.089697\n",
       "2017-12-22    22.218904\n",
       "2017-12-27    22.209333\n",
       "2017-12-28    22.075342\n",
       "2017-12-29    21.855207\n",
       "Name: Adj Close, Length: 255, dtype: float64"
      ]
     },
     "metadata": {},
     "output_type": "display_data"
    },
    {
     "name": "stdout",
     "output_type": "stream",
     "text": [
      "[*********************100%***********************]  1 of 1 completed\n"
     ]
    },
    {
     "data": {
      "text/plain": [
       "Date\n",
       "2017-01-02    51.655022\n",
       "2017-01-03    51.615288\n",
       "2017-01-04    49.397755\n",
       "2017-01-05    49.882591\n",
       "2017-01-06    49.596458\n",
       "                ...    \n",
       "2017-12-21    70.583733\n",
       "2017-12-22    69.878860\n",
       "2017-12-27    70.753868\n",
       "2017-12-28    70.300163\n",
       "2017-12-29    69.700623\n",
       "Name: Adj Close, Length: 255, dtype: float64"
      ]
     },
     "metadata": {},
     "output_type": "display_data"
    },
    {
     "name": "stdout",
     "output_type": "stream",
     "text": [
      "[*********************100%***********************]  1 of 1 completed\n"
     ]
    },
    {
     "data": {
      "text/plain": [
       "Date\n",
       "2017-01-02    22.469282\n",
       "2017-01-03    22.532906\n",
       "2017-01-04    22.185419\n",
       "2017-01-05    22.268620\n",
       "2017-01-06    22.146263\n",
       "                ...    \n",
       "2017-12-21    23.795366\n",
       "2017-12-22    23.568838\n",
       "2017-12-27    23.682100\n",
       "2017-12-28    23.677177\n",
       "2017-12-29    23.849537\n",
       "Name: Adj Close, Length: 255, dtype: float64"
      ]
     },
     "metadata": {},
     "output_type": "display_data"
    },
    {
     "name": "stdout",
     "output_type": "stream",
     "text": [
      "[*********************100%***********************]  1 of 1 completed\n"
     ]
    },
    {
     "data": {
      "text/plain": [
       "Date\n",
       "2017-01-02    155.881607\n",
       "2017-01-03    157.548782\n",
       "2017-01-04    156.006653\n",
       "2017-01-05    155.256424\n",
       "2017-01-06    156.965271\n",
       "                 ...    \n",
       "2017-12-21    197.275620\n",
       "2017-12-22    196.710602\n",
       "2017-12-27    197.492935\n",
       "2017-12-28    196.667145\n",
       "2017-12-29    195.624054\n",
       "Name: Adj Close, Length: 255, dtype: float64"
      ]
     },
     "metadata": {},
     "output_type": "display_data"
    },
    {
     "name": "stdout",
     "output_type": "stream",
     "text": [
      "[*********************100%***********************]  1 of 1 completed\n"
     ]
    },
    {
     "data": {
      "text/plain": [
       "Date\n",
       "2017-01-02    11.704587\n",
       "2017-01-03    11.620816\n",
       "2017-01-04    11.876782\n",
       "2017-01-05    11.909360\n",
       "2017-01-06    11.537047\n",
       "                ...    \n",
       "2017-12-21    29.075029\n",
       "2017-12-22    29.173668\n",
       "2017-12-27    29.192457\n",
       "2017-12-28    29.234730\n",
       "2017-12-29    28.858963\n",
       "Name: Adj Close, Length: 255, dtype: float64"
      ]
     },
     "metadata": {},
     "output_type": "display_data"
    }
   ],
   "source": [
    "import pandas as pd\n",
    "import yfinance as yf\n",
    "tickers = ['DPW.DE','ALV.DE','BMW.DE','DTE.DE','FME.DE','BAS.DE','HEN3.DE',\n",
    "           'LIN.F','SAP.DE','DBK.DE','BAYN.DE','VOW3.DE','HEI.DE','FRE.F',\n",
    "           'MRK.DE','BEI.DE','SIE.DE','MUV2.DE','DB1.DE','VNA.DE','EOAN.F',\n",
    "           'DAI.DE','ADS.DE','WDI.F','RWE.DE','IFX.DE','1COV.DE',\n",
    "           'TKA.DE','CON.DE','LHA.DE']\n",
    "startinput = \"2017-01-01\"\n",
    "endinput = \"2017-12-31\"\n",
    "S=pd.DataFrame()\n",
    "for t in tickers:\n",
    "    data= yf.download(tickers = t,\n",
    "                        start=startinput,\n",
    "                        end=endinput,\n",
    "                        interval = \"1d\",\n",
    "                        auto_ajust = True,\n",
    "                        threads = True,\n",
    "                           )\n",
    "    display(data[\"Adj Close\"])\n",
    "    S[t]=data[\"Adj Close\"]"
   ]
  },
  {
   "cell_type": "code",
   "execution_count": 6,
   "metadata": {},
   "outputs": [],
   "source": [
    "R = pd.DataFrame()\n",
    "for t in tickers: R[t] = S[t] / S[t].shift(1) -1 "
   ]
  },
  {
   "cell_type": "code",
   "execution_count": 7,
   "metadata": {},
   "outputs": [],
   "source": [
    "data_R = R"
   ]
  },
  {
   "cell_type": "code",
   "execution_count": 8,
   "metadata": {},
   "outputs": [],
   "source": [
    "data = S"
   ]
  },
  {
   "cell_type": "code",
   "execution_count": 12,
   "metadata": {},
   "outputs": [],
   "source": [
    "# PCA analysis\n",
    "from sklearn.decomposition import PCA"
   ]
  },
  {
   "cell_type": "code",
   "execution_count": 13,
   "metadata": {},
   "outputs": [],
   "source": [
    "data_RC = pd.DataFrame()\n",
    "data_RC = data_R.dropna()"
   ]
  },
  {
   "cell_type": "code",
   "execution_count": 15,
   "metadata": {},
   "outputs": [],
   "source": [
    "pca = PCA(n_components=2) # define a PCA 2D"
   ]
  },
  {
   "cell_type": "code",
   "execution_count": 16,
   "metadata": {},
   "outputs": [],
   "source": [
    "PC2 = pca.fit_transform(data_RC) # runs the PCA after centering the data: E(data_RC)=0"
   ]
  },
  {
   "cell_type": "code",
   "execution_count": 17,
   "metadata": {},
   "outputs": [],
   "source": [
    "# Plot the projections of the daily observations of dimension 30 on the two-dimensional PCA space\n",
    "f_1 = PC2[:,0 ] # factor 1\n",
    "f_2 = PC2[:,1 ] # factor 2\n"
   ]
  },
  {
   "cell_type": "code",
   "execution_count": 19,
   "metadata": {},
   "outputs": [
    {
     "data": {
      "image/png": "[encoded data removed]",
      "text/plain": [
       "<Figure size 432x288 with 1 Axes>"
      ]
     },
     "metadata": {
      "needs_background": "light"
     },
     "output_type": "display_data"
    }
   ],
   "source": [
    "plt.scatter(f_1,f_2,alpha=0.5)\n",
    "plt.xlabel(\"PC1- Beta to Factor 1\")\n",
    "plt.ylabel(\"PC2 -  Becta to Factor 2\")\n",
    "plt.title(\"Betas for the 30 stocks of the DAX30\")\n",
    "plt.show()"
   ]
  },
  {
   "cell_type": "code",
   "execution_count": 20,
   "metadata": {},
   "outputs": [],
   "source": [
    "proj1 = pca.components_.T[:,0]"
   ]
  },
  {
   "cell_type": "code",
   "execution_count": 21,
   "metadata": {},
   "outputs": [],
   "source": [
    "proj2 = pca.components_.T[:,1]"
   ]
  },
  {
   "cell_type": "code",
   "execution_count": 24,
   "metadata": {},
   "outputs": [],
   "source": [
    "indexproj1_max = np.argmax(proj1)\n",
    "indexproj2_max = np.argmax(proj2)\n",
    "Nameproj1_max = list(data_RC)[np.argmax(proj1)] # find the stock having the largest component on the first axis\n",
    "Nameproj2_max = list(data_RC)[np.argmax(proj2)] # find the stock having the largest component on the second axis\n"
   ]
  },
  {
   "cell_type": "code",
   "execution_count": 26,
   "metadata": {},
   "outputs": [
    {
     "data": {
      "image/png": "[encoded data removed]",
      "text/plain": [
       "<Figure size 432x288 with 1 Axes>"
      ]
     },
     "metadata": {
      "needs_background": "light"
     },
     "output_type": "display_data"
    }
   ],
   "source": [
    "fig,ax = plt.subplots()\n",
    "plt.scatter(proj1, proj2,alpha=0.5)\n",
    "ax.scatter(proj1[indexproj1_max],proj2[indexproj1_max])\n",
    "ax.annotate(Nameproj1_max,(proj1[indexproj1_max],proj2[indexproj1_max]))\n",
    "\n",
    "ax.scatter(proj1[indexproj2_max],proj2[indexproj2_max])\n",
    "ax.annotate(Nameproj2_max,(proj1[indexproj2_max],proj2[indexproj2_max]))\n",
    "plt.xlabel(\"beta to factor 1\")\n",
    "plt.ylabel(\"beta to factor 2\")\n",
    "\n",
    "plt.show()"
   ]
  },
  {
   "cell_type": "code",
   "execution_count": 27,
   "metadata": {},
   "outputs": [
    {
     "data": {
      "image/png": "[encoded data removed]",
      "text/plain": [
       "<Figure size 432x288 with 1 Axes>"
      ]
     },
     "metadata": {
      "needs_background": "light"
     },
     "output_type": "display_data"
    }
   ],
   "source": [
    "#Listing 9.3 Python. Correlation circle for the 30 stocks of the DAX\n",
    "\n",
    "# correlation circule\n",
    "fig,ax = plt.subplots()\n",
    "from scipy.stats.stats import pearsonr\n",
    "co = pd.DataFrame()\n",
    "for sym in tickers:\n",
    "    co[sym] = pearsonr(f_1,data_RC[sym])[0],pearsonr(f_2,data_RC[sym])[0]\n",
    "    \n",
    "plt.scatter(co.loc[0],co.loc[1],alpha=0.5)\n",
    "\n",
    "# first point\n",
    "\n",
    "indexcor1_max = np.argmax(co.loc[0].values)\n",
    "indexcor1_max_x = co.loc[0][indexcor1_max]\n",
    "indexcor1_max_y = co.loc[1][indexcor1_max]\n",
    "indexcor1_max_name = list(co)[indexcor1_max]\n",
    "ax.scatter(indexcor1_max_x,indexcor1_max_y,alpha=0.5,color=\"red\")\n",
    "ax.annotate(indexcor1_max_name,(indexcor1_max_x,indexcor1_max_y))\n",
    "\n",
    "\n",
    "# second point \n",
    "indexcor1_min = np.argmin(co.loc[0].values)\n",
    "indexcor1_min_x = co.loc[0][indexcor1_min]\n",
    "indexcor1_min_y = co.loc[1][indexcor1_min]\n",
    "indexcor1_min_name = list(co)[indexcor1_min]\n",
    "ax.scatter(indexcor1_min_x,indexcor1_min_y,alpha=0.5,color=\"red\")\n",
    "ax.annotate(indexcor1_min_name,(indexcor1_min_x,indexcor1_min_y))\n",
    "\n",
    "\n",
    "# third point\n",
    "indexcor2_max = np.argmax(co.loc[1].values)\n",
    "indexcor2_max_x = co.loc[0][indexcor2_max]\n",
    "indexcor2_max_y = co.loc[1][indexcor2_max]\n",
    "indexcor2_max_name = list(co)[indexcor2_max]\n",
    "ax.scatter(indexcor2_max_x,indexcor2_max_y,alpha=0.5,color=\"red\")\n",
    "ax.annotate(indexcor2_max_name,(indexcor2_max_x,indexcor2_max_y))\n",
    "\n",
    "#fourth point\n",
    "indexcor2_min = np.argmin(co.loc[1].values)\n",
    "indexcor2_min_x = co.loc[0][indexcor2_min]\n",
    "indexcor2_min_y = co.loc[1][indexcor2_min]\n",
    "indexcor2_min_name = list(co)[indexcor2_min]\n",
    "ax.scatter(indexcor2_min_x,indexcor2_min_y,alpha=0.5,color=\"red\")\n",
    "ax.annotate(indexcor2_min_name,(indexcor2_min_x,indexcor2_min_y))\n",
    "\n",
    "plt.xlabel(\"correlation to factor 1\")\n",
    "plt.ylabel(\"correlation to factor 2\")\n",
    "\n",
    "plt.title(\"Correlation circle for the 30 stocks of the DAX\")\n",
    "plt.show()"
   ]
  },
  {
   "cell_type": "code",
   "execution_count": null,
   "metadata": {},
   "outputs": [],
   "source": []
  }
 ],
 "metadata": {
  "kernelspec": {
   "display_name": "quant-portfolio-book",
   "language": "python",
   "name": "quant-portfolio-book"
  },
  "language_info": {
   "codemirror_mode": {
    "name": "ipython",
    "version": 3
   },
   "file_extension": ".py",
   "mimetype": "text/x-python",
   "name": "python",
   "nbconvert_exporter": "python",
   "pygments_lexer": "ipython3",
   "version": "3.7.10"
  }
 },
 "nbformat": 4,
 "nbformat_minor": 4
}
