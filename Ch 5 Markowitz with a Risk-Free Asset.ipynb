{
 "cells": [
  {
   "cell_type": "markdown",
   "metadata": {},
   "source": [
    "Python. Risk versus reward for 5 stocks"
   ]
  },
  {
   "cell_type": "code",
   "execution_count": 1,
   "metadata": {},
   "outputs": [],
   "source": [
    "import pandas as pd\n",
    "import yfinance as yf"
   ]
  },
  {
   "cell_type": "code",
   "execution_count": 2,
   "metadata": {},
   "outputs": [],
   "source": [
    "import numpy as np"
   ]
  },
  {
   "cell_type": "code",
   "execution_count": 3,
   "metadata": {},
   "outputs": [],
   "source": [
    "import math"
   ]
  },
  {
   "cell_type": "code",
   "execution_count": 4,
   "metadata": {},
   "outputs": [],
   "source": [
    "from numpy import linalg as LA"
   ]
  },
  {
   "cell_type": "code",
   "execution_count": 5,
   "metadata": {},
   "outputs": [],
   "source": [
    "from numpy.linalg import inv\n",
    "from scipy import stats"
   ]
  },
  {
   "cell_type": "code",
   "execution_count": 6,
   "metadata": {},
   "outputs": [],
   "source": [
    "import matplotlib.pyplot as plt"
   ]
  },
  {
   "cell_type": "code",
   "execution_count": 35,
   "metadata": {},
   "outputs": [
    {
     "name": "stderr",
     "output_type": "stream",
     "text": [
      "/home/german/web/quantitative-portfolio-management/env/lib/python3.7/site-packages/ipykernel_launcher.py:1: DeprecationWarning: The default dtype for empty Series will be 'object' instead of 'float64' in a future version. Specify a dtype explicitly to silence this warning.\n",
      "  \"\"\"Entry point for launching an IPython kernel.\n"
     ]
    },
    {
     "name": "stdout",
     "output_type": "stream",
     "text": [
      "[*********************100%***********************]  1 of 1 completed\n"
     ]
    },
    {
     "data": {
      "text/plain": [
       "Date\n",
       "2017-01-02    25.519751\n",
       "2017-01-03    25.601025\n",
       "2017-01-04    25.458797\n",
       "2017-01-05    25.889545\n",
       "2017-01-06    25.901737\n",
       "                ...    \n",
       "2017-12-21    34.169418\n",
       "2017-12-22    33.993137\n",
       "2017-12-27    34.089676\n",
       "2017-12-28    33.690941\n",
       "2017-12-29    33.367756\n",
       "Name: Adj Close, Length: 255, dtype: float64"
      ]
     },
     "metadata": {},
     "output_type": "display_data"
    },
    {
     "name": "stdout",
     "output_type": "stream",
     "text": [
      "[*********************100%***********************]  1 of 1 completed\n"
     ]
    },
    {
     "data": {
      "text/plain": [
       "Date\n",
       "2017-01-02    124.379189\n",
       "2017-01-03    126.158302\n",
       "2017-01-04    126.830399\n",
       "2017-01-05    127.067619\n",
       "2017-01-06    127.383919\n",
       "                 ...    \n",
       "2017-12-21    162.166214\n",
       "2017-12-22    161.339890\n",
       "2017-12-27    160.389618\n",
       "2017-12-28    159.687241\n",
       "2017-12-29    158.241165\n",
       "Name: Adj Close, Length: 255, dtype: float64"
      ]
     },
     "metadata": {},
     "output_type": "display_data"
    },
    {
     "name": "stdout",
     "output_type": "stream",
     "text": [
      "[*********************100%***********************]  1 of 1 completed\n"
     ]
    },
    {
     "data": {
      "text/plain": [
       "Date\n",
       "2017-01-02    71.088478\n",
       "2017-01-03    71.760010\n",
       "2017-01-04    71.246475\n",
       "2017-01-05    71.372887\n",
       "2017-01-06    71.507202\n",
       "                ...    \n",
       "2017-12-21    72.201233\n",
       "2017-12-22    71.938210\n",
       "2017-12-27    71.724503\n",
       "2017-12-28    71.625862\n",
       "2017-12-29    71.371056\n",
       "Name: Adj Close, Length: 255, dtype: float64"
      ]
     },
     "metadata": {},
     "output_type": "display_data"
    },
    {
     "name": "stdout",
     "output_type": "stream",
     "text": [
      "[*********************100%***********************]  1 of 1 completed\n"
     ]
    },
    {
     "data": {
      "text/plain": [
       "Date\n",
       "2017-01-02    65.737350\n",
       "2017-01-03    64.996231\n",
       "2017-01-04    65.329735\n",
       "2017-01-05    65.062943\n",
       "2017-01-06    64.862839\n",
       "                ...    \n",
       "2017-12-21    71.842049\n",
       "2017-12-22    71.704018\n",
       "2017-12-27    71.765358\n",
       "2017-12-28    71.144257\n",
       "2017-12-29    70.346771\n",
       "Name: Adj Close, Length: 255, dtype: float64"
      ]
     },
     "metadata": {},
     "output_type": "display_data"
    },
    {
     "name": "stdout",
     "output_type": "stream",
     "text": [
      "[*********************100%***********************]  1 of 1 completed\n"
     ]
    },
    {
     "data": {
      "text/plain": [
       "Date\n",
       "2017-01-02    73.658379\n",
       "2017-01-03    72.816055\n",
       "2017-01-04    72.466576\n",
       "2017-01-05    72.170868\n",
       "2017-01-06    72.224625\n",
       "                ...    \n",
       "2017-12-21    79.213821\n",
       "2017-12-22    79.956940\n",
       "2017-12-27    80.101929\n",
       "2017-12-28    79.902557\n",
       "2017-12-29    79.549133\n",
       "Name: Adj Close, Length: 255, dtype: float64"
      ]
     },
     "metadata": {},
     "output_type": "display_data"
    }
   ],
   "source": [
    "\n",
    "data = pd.Series()\n",
    "TickerDax= ['DPW.DE','ALV.DE','BMW.DE','BAS.DE','FME.DE']\n",
    "for t in TickerDax:\n",
    "    data_= yf.download(tickers = t,\n",
    "                        start=\"2017-01-01\",\n",
    "                        end=\"2017-12-31\",\n",
    "                        interval = \"1d\",\n",
    "                        auto_ajust = True,\n",
    "                        threads = True,\n",
    "                           )\n",
    "    display(data_[\"Adj Close\"])\n",
    "    data[t]=data_[\"Adj Close\"]"
   ]
  },
  {
   "cell_type": "code",
   "execution_count": 36,
   "metadata": {},
   "outputs": [],
   "source": [
    "r=0 # risk free rate"
   ]
  },
  {
   "cell_type": "code",
   "execution_count": 37,
   "metadata": {},
   "outputs": [],
   "source": [
    "AFactor = len(data[\"DPW.DE\"]) # annualisation factor, based on number of observations equal to 1"
   ]
  },
  {
   "cell_type": "code",
   "execution_count": 38,
   "metadata": {},
   "outputs": [],
   "source": [
    "n_TickerDax= len(TickerDax)"
   ]
  },
  {
   "cell_type": "code",
   "execution_count": 39,
   "metadata": {},
   "outputs": [],
   "source": [
    "Vec1 = np.linspace(1,1,n_TickerDax) # create a vector with all components equal to 1"
   ]
  },
  {
   "cell_type": "code",
   "execution_count": 40,
   "metadata": {},
   "outputs": [],
   "source": [
    "data_R = pd.DataFrame() # daily returns\n",
    "Mdata_R = pd.DataFrame() # means of the daily returns\n",
    "Sigma = pd.DataFrame() # Variance covariance matrix of the returns annualised\n",
    "Sigma_diag = pd.DataFrame() # individual variances (derived from var-covariance matrix)\n"
   ]
  },
  {
   "cell_type": "code",
   "execution_count": 41,
   "metadata": {},
   "outputs": [],
   "source": [
    "for x in TickerDax:\n",
    "    data_R[x]= (data[x]/data[x].shift(1)-1)"
   ]
  },
  {
   "cell_type": "code",
   "execution_count": 42,
   "metadata": {},
   "outputs": [],
   "source": [
    "Sigma = AFactor*data_R.cov() # annualisation . The missing values are not taken into account with Cov()\n",
    "invSigma = inv(Sigma)\n",
    "for x in TickerDax:\n",
    "    Sigma_diag[x]= [Sigma[x][x]]\n",
    "    Mdata_R[x] = [float(np.mean(data_R[x]))]"
   ]
  },
  {
   "cell_type": "code",
   "execution_count": 43,
   "metadata": {},
   "outputs": [],
   "source": [
    "Mean = AFactor*Mdata_R.iloc[0] # avg returns on an annualised basis\n",
    "STD = Sigma_diag.iloc[0]**.5 # standard deviations on an annualised basis\n"
   ]
  },
  {
   "cell_type": "code",
   "execution_count": 25,
   "metadata": {},
   "outputs": [],
   "source": []
  },
  {
   "cell_type": "code",
   "execution_count": 44,
   "metadata": {},
   "outputs": [
    {
     "data": {
      "image/png": "[encoded data removed]",
      "text/plain": [
       "<Figure size 432x288 with 1 Axes>"
      ]
     },
     "metadata": {
      "needs_background": "light"
     },
     "output_type": "display_data"
    }
   ],
   "source": [
    "fig,ax = plt.subplots()\n",
    "# Important variables calculation\n",
    "a = Vec1.T.dot(invSigma).dot(Vec1)\n",
    "b = Mean.T.dot(invSigma).dot(Vec1)\n",
    "sd_a = 1/math.sqrt(a) # standard deviation , minimum variance portfolio\n",
    "m_a = b/a # expected return , minimum variance p o r t f o l i o\n",
    "m_w = math.sqrt((Mean - b / a * Vec1 ).T.dot(invSigma).dot(Mean-b/a*Vec1)) # expected return , portfolio w\n",
    "m_r = math.sqrt((Mean - r * Vec1 ).T.dot(invSigma).dot(Mean-r*Vec1)) # expected return , Tangent Portfolio\n",
    "\n",
    "# Graph plotting\n",
    "np.random.seed (7777) # Fixing random s t a t e for r e p r o du c i b ility\n",
    "colors = np.random.rand(len(STD)) # each p o i n t w i l l have i t s own ( random ) color\n",
    "plt.scatter(STD,Mean, c= colors,alpha = 0.7) # plot the assets ,alpha transparency parameter\n",
    "ax.annotate(TickerDax[0],(STD[0]+.01,Mean[0]))\n",
    "\n",
    "ax.annotate(TickerDax[1],(STD[1]+.01,Mean[1]))\n",
    "ax.annotate(TickerDax[2],(STD[2]+.01,Mean[2]))\n",
    "ax.annotate(TickerDax[3],(STD[3]+.01,Mean[3]-0.01))\n",
    "ax.annotate(TickerDax[4],(STD[4]+.01,Mean[4]))\n",
    "range_inf = np . min ( Mean ) - 0.05\n",
    "range_sup = np . max ( Mean ) + 0.35\n",
    "z2 = np.linspace(range_inf , range_sup , 50) # range of expected returns considered\n",
    "z1 = pd.DataFrame ()\n",
    "z= pd.DataFrame ()\n",
    "zr= pd.DataFrame ()\n",
    "i =0\n",
    "for i in range ( len ( z2 ) ) :\n",
    "    z1[i]= [math.sqrt(((z2[i]-m_a)/m_w)**2+sd_a**2 )] # Frontier\n",
    "    z[i]= [(z2[i]-b/a) /m_w] # Asymptot to the Frontier\n",
    "    zr[i]= [(z2[i]-r)/m_r] # Capital Marlet Line\n",
    "z1 = z1.iloc[0]\n",
    "z=z.iloc[0]\n",
    "zr=zr.iloc[0]\n",
    "plt.plot(z1,z2,alpha=1) # plot the Frontier\n",
    "plt.plot(z,z2,alpha=1) # plot the asymptot to the Frontier\n",
    "plt.plot(zr,z2,alpha=1) # plot the Capital Market Line\n",
    "plt.legend ([ ' Frontier ' , ' Asymptot ' , ' Capital Market Line ' ] , loc =2)\n",
    "plt.grid ( True )\n",
    "plt.xlabel( ' Annualised standard deviation ' )\n",
    "plt.ylabel( ' Annualised return ' )\n",
    "plt.show()"
   ]
  },
  {
   "cell_type": "code",
   "execution_count": 46,
   "metadata": {},
   "outputs": [
    {
     "name": "stdout",
     "output_type": "stream",
     "text": [
      " annualised standard deviations of the returns : \n",
      "DPW.DE    0.154353\n",
      "ALV.DE    0.131155\n",
      "BMW.DE    0.150390\n",
      "BAS.DE    0.151034\n",
      "FME.DE    0.170277\n",
      "Name: 0, dtype: float64\n",
      " annualised means of the returns : \n",
      "DPW.DE    0.281142\n",
      "ALV.DE    0.250371\n",
      "BMW.DE    0.015238\n",
      "BAS.DE    0.079365\n",
      "FME.DE    0.091780\n",
      "Name: 0, dtype: float64\n",
      "min variance portfolio:\n",
      "sd_a 0.11260861533457656  ,m_a  0.14847690140797348\n",
      "matrix of variance - covariance : \n",
      "          DPW.DE    ALV.DE    BMW.DE    BAS.DE    FME.DE\n",
      "DPW.DE  0.023825  0.012324  0.010318  0.012646  0.010968\n",
      "ALV.DE  0.012324  0.017202  0.009887  0.011984  0.008223\n",
      "BMW.DE  0.010318  0.009887  0.022617  0.011725  0.007501\n",
      "BAS.DE  0.012646  0.011984  0.011725  0.022811  0.010268\n",
      "FME.DE  0.010968  0.008223  0.007501  0.010268  0.028994\n",
      " Correl Matrix\n",
      "          DPW.DE    ALV.DE    BMW.DE    BAS.DE    FME.DE\n",
      "DPW.DE  1.000000  0.608764  0.444511  0.542464  0.417327\n",
      "ALV.DE  0.608764  1.000000  0.501275  0.605000  0.368211\n",
      "BMW.DE  0.444511  0.501275  1.000000  0.516219  0.292931\n",
      "BAS.DE  0.542464  0.605000  0.516219  1.000000  0.399249\n",
      "FME.DE  0.417327  0.368211  0.292931  0.399249  1.000000\n"
     ]
    }
   ],
   "source": [
    "\n",
    "# Useful Ouputs .\n",
    "print(\" annualised standard deviations of the returns : \")\n",
    "print(STD)\n",
    "print(\" annualised means of the returns : \")\n",
    "print(Mean)\n",
    "print(\"min variance portfolio:\")\n",
    "print(\"sd_a\" , sd_a , \" ,m_a \" , b/a)\n",
    "print(\"matrix of variance - covariance : \")\n",
    "print(Sigma)\n",
    "print(\" Correl Matrix\")\n",
    "print(data_R.corr())"
   ]
  },
  {
   "cell_type": "code",
   "execution_count": null,
   "metadata": {},
   "outputs": [],
   "source": []
  }
 ],
 "metadata": {
  "kernelspec": {
   "display_name": "quant-portfolio-book",
   "language": "python",
   "name": "quant-portfolio-book"
  },
  "language_info": {
   "codemirror_mode": {
    "name": "ipython",
    "version": 3
   },
   "file_extension": ".py",
   "mimetype": "text/x-python",
   "name": "python",
   "nbconvert_exporter": "python",
   "pygments_lexer": "ipython3",
   "version": "3.7.10"
  }
 },
 "nbformat": 4,
 "nbformat_minor": 4
}
