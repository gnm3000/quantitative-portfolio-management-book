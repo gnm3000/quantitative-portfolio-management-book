{
 "cells": [
  {
   "cell_type": "markdown",
   "metadata": {},
   "source": [
    "Python. Risk versus reward for 5 stocks"
   ]
  },
  {
   "cell_type": "code",
   "execution_count": 4,
   "metadata": {},
   "outputs": [],
   "source": [
    "import pandas as pd\n",
    "import yfinance as yf"
   ]
  },
  {
   "cell_type": "code",
   "execution_count": 5,
   "metadata": {},
   "outputs": [],
   "source": [
    "import numpy as np"
   ]
  },
  {
   "cell_type": "code",
   "execution_count": 6,
   "metadata": {},
   "outputs": [],
   "source": [
    "import math"
   ]
  },
  {
   "cell_type": "code",
   "execution_count": 7,
   "metadata": {},
   "outputs": [],
   "source": [
    "from numpy import linalg as LA"
   ]
  },
  {
   "cell_type": "code",
   "execution_count": 8,
   "metadata": {},
   "outputs": [],
   "source": [
    "from numpy.linalg import inv\n",
    "from scipy import stats"
   ]
  },
  {
   "cell_type": "code",
   "execution_count": 9,
   "metadata": {},
   "outputs": [],
   "source": [
    "import matplotlib.pyplot as plt"
   ]
  },
  {
   "cell_type": "code",
   "execution_count": 10,
   "metadata": {},
   "outputs": [
    {
     "name": "stderr",
     "output_type": "stream",
     "text": [
      "/home/german/web/quantitative-portfolio-management/env/lib/python3.7/site-packages/ipykernel_launcher.py:1: DeprecationWarning: The default dtype for empty Series will be 'object' instead of 'float64' in a future version. Specify a dtype explicitly to silence this warning.\n",
      "  \"\"\"Entry point for launching an IPython kernel.\n"
     ]
    },
    {
     "name": "stdout",
     "output_type": "stream",
     "text": [
      "[*********************100%***********************]  1 of 1 completed\n"
     ]
    },
    {
     "data": {
      "text/plain": [
       "Date\n",
       "2017-01-02    25.519751\n",
       "2017-01-03    25.601025\n",
       "2017-01-04    25.458797\n",
       "2017-01-05    25.889545\n",
       "2017-01-06    25.901737\n",
       "                ...    \n",
       "2017-12-21    34.169418\n",
       "2017-12-22    33.993137\n",
       "2017-12-27    34.089676\n",
       "2017-12-28    33.690941\n",
       "2017-12-29    33.367756\n",
       "Name: Adj Close, Length: 255, dtype: float64"
      ]
     },
     "metadata": {},
     "output_type": "display_data"
    },
    {
     "name": "stdout",
     "output_type": "stream",
     "text": [
      "[*********************100%***********************]  1 of 1 completed\n"
     ]
    },
    {
     "data": {
      "text/plain": [
       "Date\n",
       "2017-01-02    124.379189\n",
       "2017-01-03    126.158302\n",
       "2017-01-04    126.830399\n",
       "2017-01-05    127.067619\n",
       "2017-01-06    127.383919\n",
       "                 ...    \n",
       "2017-12-21    162.166214\n",
       "2017-12-22    161.339890\n",
       "2017-12-27    160.389618\n",
       "2017-12-28    159.687241\n",
       "2017-12-29    158.241165\n",
       "Name: Adj Close, Length: 255, dtype: float64"
      ]
     },
     "metadata": {},
     "output_type": "display_data"
    },
    {
     "name": "stdout",
     "output_type": "stream",
     "text": [
      "[*********************100%***********************]  1 of 1 completed\n"
     ]
    },
    {
     "data": {
      "text/plain": [
       "Date\n",
       "2017-01-02    71.088478\n",
       "2017-01-03    71.760010\n",
       "2017-01-04    71.246475\n",
       "2017-01-05    71.372887\n",
       "2017-01-06    71.507202\n",
       "                ...    \n",
       "2017-12-21    72.201233\n",
       "2017-12-22    71.938210\n",
       "2017-12-27    71.724503\n",
       "2017-12-28    71.625862\n",
       "2017-12-29    71.371056\n",
       "Name: Adj Close, Length: 255, dtype: float64"
      ]
     },
     "metadata": {},
     "output_type": "display_data"
    },
    {
     "name": "stdout",
     "output_type": "stream",
     "text": [
      "[*********************100%***********************]  1 of 1 completed\n"
     ]
    },
    {
     "data": {
      "text/plain": [
       "Date\n",
       "2017-01-02    65.737350\n",
       "2017-01-03    64.996231\n",
       "2017-01-04    65.329735\n",
       "2017-01-05    65.062943\n",
       "2017-01-06    64.862839\n",
       "                ...    \n",
       "2017-12-21    71.842049\n",
       "2017-12-22    71.704018\n",
       "2017-12-27    71.765358\n",
       "2017-12-28    71.144257\n",
       "2017-12-29    70.346771\n",
       "Name: Adj Close, Length: 255, dtype: float64"
      ]
     },
     "metadata": {},
     "output_type": "display_data"
    },
    {
     "name": "stdout",
     "output_type": "stream",
     "text": [
      "[*********************100%***********************]  1 of 1 completed\n"
     ]
    },
    {
     "data": {
      "text/plain": [
       "Date\n",
       "2017-01-02    73.658379\n",
       "2017-01-03    72.816055\n",
       "2017-01-04    72.466576\n",
       "2017-01-05    72.170868\n",
       "2017-01-06    72.224625\n",
       "                ...    \n",
       "2017-12-21    79.213821\n",
       "2017-12-22    79.956940\n",
       "2017-12-27    80.101929\n",
       "2017-12-28    79.902557\n",
       "2017-12-29    79.549133\n",
       "Name: Adj Close, Length: 255, dtype: float64"
      ]
     },
     "metadata": {},
     "output_type": "display_data"
    }
   ],
   "source": [
    "\n",
    "data = pd.Series()\n",
    "TickerDax= ['DPW.DE','ALV.DE','BMW.DE','BAS.DE','FME.DE']\n",
    "for t in TickerDax:\n",
    "    data_= yf.download(tickers = t,\n",
    "                        start=\"2017-01-01\",\n",
    "                        end=\"2017-12-31\",\n",
    "                        interval = \"1d\",\n",
    "                        auto_ajust = True,\n",
    "                        threads = True,\n",
    "                           )\n",
    "    display(data_[\"Adj Close\"])\n",
    "    data[t]=data_[\"Adj Close\"]"
   ]
  },
  {
   "cell_type": "code",
   "execution_count": 11,
   "metadata": {},
   "outputs": [],
   "source": [
    "r=0 # risk free rate"
   ]
  },
  {
   "cell_type": "code",
   "execution_count": 12,
   "metadata": {},
   "outputs": [],
   "source": [
    "AFactor = len(data[\"DPW.DE\"]) # annualisation factor, based on number of observations equal to 1"
   ]
  },
  {
   "cell_type": "code",
   "execution_count": 13,
   "metadata": {},
   "outputs": [],
   "source": [
    "n_TickerDax= len(TickerDax)"
   ]
  },
  {
   "cell_type": "code",
   "execution_count": 14,
   "metadata": {},
   "outputs": [],
   "source": [
    "Vec1 = np.linspace(1,1,n_TickerDax) # create a vector with all components equal to 1"
   ]
  },
  {
   "cell_type": "code",
   "execution_count": 15,
   "metadata": {},
   "outputs": [],
   "source": [
    "data_R = pd.DataFrame() # daily returns\n",
    "Mdata_R = pd.DataFrame() # means of the daily returns\n",
    "Sigma = pd.DataFrame() # Variance covariance matrix of the returns annualised\n",
    "Sigma_diag = pd.DataFrame() # individual variances (derived from var-covariance matrix)\n"
   ]
  },
  {
   "cell_type": "code",
   "execution_count": 16,
   "metadata": {},
   "outputs": [],
   "source": [
    "for x in TickerDax:\n",
    "    data_R[x]= (data[x]/data[x].shift(1)-1)"
   ]
  },
  {
   "cell_type": "code",
   "execution_count": 17,
   "metadata": {},
   "outputs": [],
   "source": [
    "Sigma = AFactor*data_R.cov() # annualisation . The missing values are not taken into account with Cov()\n",
    "invSigma = inv(Sigma)\n",
    "for x in TickerDax:\n",
    "    Sigma_diag[x]= [Sigma[x][x]]\n",
    "    Mdata_R[x] = [float(np.mean(data_R[x]))]"
   ]
  },
  {
   "cell_type": "code",
   "execution_count": 18,
   "metadata": {},
   "outputs": [],
   "source": [
    "Mean = AFactor*Mdata_R.iloc[0] # avg returns on an annualised basis\n",
    "STD = Sigma_diag.iloc[0]**.5 # standard deviations on an annualised basis\n"
   ]
  },
  {
   "cell_type": "code",
   "execution_count": null,
   "metadata": {},
   "outputs": [],
   "source": []
  },
  {
   "cell_type": "code",
   "execution_count": 19,
   "metadata": {},
   "outputs": [
    {
     "data": {
      "image/png": "[encoded data removed]",
      "text/plain": [
       "<Figure size 432x288 with 1 Axes>"
      ]
     },
     "metadata": {
      "needs_background": "light"
     },
     "output_type": "display_data"
    }
   ],
   "source": [
    "fig,ax = plt.subplots()\n",
    "# Important variables calculation\n",
    "a = Vec1.T.dot(invSigma).dot(Vec1)\n",
    "b = Mean.T.dot(invSigma).dot(Vec1)\n",
    "sd_a = 1/math.sqrt(a) # standard deviation , minimum variance portfolio\n",
    "m_a = b/a # expected return , minimum variance p o r t f o l i o\n",
    "m_w = math.sqrt((Mean - b / a * Vec1 ).T.dot(invSigma).dot(Mean-b/a*Vec1)) # expected return , portfolio w\n",
    "m_r = math.sqrt((Mean - r * Vec1 ).T.dot(invSigma).dot(Mean-r*Vec1)) # expected return , Tangent Portfolio\n",
    "\n",
    "# Graph plotting\n",
    "np.random.seed (7777) # Fixing random s t a t e for r e p r o du c i b ility\n",
    "colors = np.random.rand(len(STD)) # each p o i n t w i l l have i t s own ( random ) color\n",
    "plt.scatter(STD,Mean, c= colors,alpha = 0.7) # plot the assets ,alpha transparency parameter\n",
    "ax.annotate(TickerDax[0],(STD[0]+.01,Mean[0]))\n",
    "\n",
    "ax.annotate(TickerDax[1],(STD[1]+.01,Mean[1]))\n",
    "ax.annotate(TickerDax[2],(STD[2]+.01,Mean[2]))\n",
    "ax.annotate(TickerDax[3],(STD[3]+.01,Mean[3]-0.01))\n",
    "ax.annotate(TickerDax[4],(STD[4]+.01,Mean[4]))\n",
    "range_inf = np . min ( Mean ) - 0.05\n",
    "range_sup = np . max ( Mean ) + 0.35\n",
    "z2 = np.linspace(range_inf , range_sup , 50) # range of expected returns considered\n",
    "z1 = pd.DataFrame ()\n",
    "z= pd.DataFrame ()\n",
    "zr= pd.DataFrame ()\n",
    "i =0\n",
    "for i in range ( len ( z2 ) ) :\n",
    "    z1[i]= [math.sqrt(((z2[i]-m_a)/m_w)**2+sd_a**2 )] # Frontier\n",
    "    z[i]= [(z2[i]-b/a) /m_w] # Asymptot to the Frontier\n",
    "    zr[i]= [(z2[i]-r)/m_r] # Capital Marlet Line\n",
    "z1 = z1.iloc[0]\n",
    "z=z.iloc[0]\n",
    "zr=zr.iloc[0]\n",
    "plt.plot(z1,z2,alpha=1) # plot the Frontier\n",
    "plt.plot(z,z2,alpha=1) # plot the asymptot to the Frontier\n",
    "plt.plot(zr,z2,alpha=1) # plot the Capital Market Line\n",
    "plt.legend ([ ' Frontier ' , ' Asymptot ' , ' Capital Market Line ' ] , loc =2)\n",
    "plt.grid ( True )\n",
    "plt.xlabel( ' Annualised standard deviation ' )\n",
    "plt.ylabel( ' Annualised return ' )\n",
    "plt.show()"
   ]
  },
  {
   "cell_type": "code",
   "execution_count": 20,
   "metadata": {},
   "outputs": [
    {
     "name": "stdout",
     "output_type": "stream",
     "text": [
      " annualised standard deviations of the returns : \n",
      "DPW.DE    0.154353\n",
      "ALV.DE    0.131155\n",
      "BMW.DE    0.150390\n",
      "BAS.DE    0.151034\n",
      "FME.DE    0.170277\n",
      "Name: 0, dtype: float64\n",
      " annualised means of the returns : \n",
      "DPW.DE    0.281142\n",
      "ALV.DE    0.250371\n",
      "BMW.DE    0.015238\n",
      "BAS.DE    0.079365\n",
      "FME.DE    0.091780\n",
      "Name: 0, dtype: float64\n",
      "min variance portfolio:\n",
      "sd_a 0.11260861533457656  ,m_a  0.14847690140797348\n",
      "matrix of variance - covariance : \n",
      "          DPW.DE    ALV.DE    BMW.DE    BAS.DE    FME.DE\n",
      "DPW.DE  0.023825  0.012324  0.010318  0.012646  0.010968\n",
      "ALV.DE  0.012324  0.017202  0.009887  0.011984  0.008223\n",
      "BMW.DE  0.010318  0.009887  0.022617  0.011725  0.007501\n",
      "BAS.DE  0.012646  0.011984  0.011725  0.022811  0.010268\n",
      "FME.DE  0.010968  0.008223  0.007501  0.010268  0.028994\n",
      " Correl Matrix\n",
      "          DPW.DE    ALV.DE    BMW.DE    BAS.DE    FME.DE\n",
      "DPW.DE  1.000000  0.608764  0.444511  0.542464  0.417327\n",
      "ALV.DE  0.608764  1.000000  0.501275  0.605000  0.368211\n",
      "BMW.DE  0.444511  0.501275  1.000000  0.516219  0.292931\n",
      "BAS.DE  0.542464  0.605000  0.516219  1.000000  0.399249\n",
      "FME.DE  0.417327  0.368211  0.292931  0.399249  1.000000\n"
     ]
    }
   ],
   "source": [
    "\n",
    "# Useful Ouputs .\n",
    "print(\" annualised standard deviations of the returns : \")\n",
    "print(STD)\n",
    "print(\" annualised means of the returns : \")\n",
    "print(Mean)\n",
    "print(\"min variance portfolio:\")\n",
    "print(\"sd_a\" , sd_a , \" ,m_a \" , b/a)\n",
    "print(\"matrix of variance - covariance : \")\n",
    "print(Sigma)\n",
    "print(\" Correl Matrix\")\n",
    "print(data_R.corr())"
   ]
  },
  {
   "cell_type": "markdown",
   "metadata": {},
   "source": [
    "# Code for 30 Stocks"
   ]
  },
  {
   "cell_type": "code",
   "execution_count": 21,
   "metadata": {},
   "outputs": [
    {
     "name": "stderr",
     "output_type": "stream",
     "text": [
      "/home/german/web/quantitative-portfolio-management/env/lib/python3.7/site-packages/ipykernel_launcher.py:1: DeprecationWarning: The default dtype for empty Series will be 'object' instead of 'float64' in a future version. Specify a dtype explicitly to silence this warning.\n",
      "  \"\"\"Entry point for launching an IPython kernel.\n"
     ]
    }
   ],
   "source": [
    "data=pd.Series()\n",
    "TickerDax=['DPW.DE','ALV.DE','BMW.DE','DTE.DE','FME.DE','BAS.DE',\n",
    "'HEN3.DE','LIN.F','SAP.DE','DBK.DE','BAYN.DE','VOW3.DE',\n",
    "'HEI.DE','FRE.F','MRK.DE','BEI.DE','SIE.DE','MUV2.DE',\n",
    "'DB1.DE','VNA.DE','EOAN.F','DAI.DE','ADS.DE','WDI.F',\n",
    "'RWE.DE','IFX.DE','1COV.DE','TKA.DE','CON.DE','LHA.DE']"
   ]
  },
  {
   "cell_type": "code",
   "execution_count": 23,
   "metadata": {},
   "outputs": [
    {
     "name": "stdout",
     "output_type": "stream",
     "text": [
      "[*********************100%***********************]  1 of 1 completed\n",
      "[*********************100%***********************]  1 of 1 completed\n",
      "[*********************100%***********************]  1 of 1 completed\n",
      "[*********************100%***********************]  1 of 1 completed\n",
      "[*********************100%***********************]  1 of 1 completed\n",
      "[*********************100%***********************]  1 of 1 completed\n",
      "[*********************100%***********************]  1 of 1 completed\n",
      "[*********************100%***********************]  1 of 1 completed\n",
      "[*********************100%***********************]  1 of 1 completed\n",
      "[*********************100%***********************]  1 of 1 completed\n",
      "[*********************100%***********************]  1 of 1 completed\n",
      "[*********************100%***********************]  1 of 1 completed\n",
      "[*********************100%***********************]  1 of 1 completed\n",
      "[*********************100%***********************]  1 of 1 completed\n",
      "[*********************100%***********************]  1 of 1 completed\n",
      "[*********************100%***********************]  1 of 1 completed\n",
      "[*********************100%***********************]  1 of 1 completed\n",
      "[*********************100%***********************]  1 of 1 completed\n",
      "[*********************100%***********************]  1 of 1 completed\n",
      "[*********************100%***********************]  1 of 1 completed\n",
      "[*********************100%***********************]  1 of 1 completed\n",
      "[*********************100%***********************]  1 of 1 completed\n",
      "[*********************100%***********************]  1 of 1 completed\n",
      "[*********************100%***********************]  1 of 1 completed\n",
      "[*********************100%***********************]  1 of 1 completed\n",
      "[*********************100%***********************]  1 of 1 completed\n",
      "[*********************100%***********************]  1 of 1 completed\n",
      "[*********************100%***********************]  1 of 1 completed\n",
      "[*********************100%***********************]  1 of 1 completed\n",
      "[*********************100%***********************]  1 of 1 completed\n"
     ]
    }
   ],
   "source": [
    "def download_ticker(ticker):\n",
    "    data_= yf.download(tickers = t,\n",
    "                        start=\"2017-01-01\",\n",
    "                        end=\"2017-12-31\",\n",
    "                        interval = \"1d\",\n",
    "                        auto_ajust = True,\n",
    "                        threads = True,\n",
    "                           )\n",
    "    return data_[\"Adj Close\"]\n",
    "for t in TickerDax:\n",
    "    data[t]=download_ticker(t)"
   ]
  },
  {
   "cell_type": "code",
   "execution_count": 24,
   "metadata": {},
   "outputs": [
    {
     "name": "stdout",
     "output_type": "stream",
     "text": [
      "[*********************100%***********************]  1 of 1 completed\n"
     ]
    }
   ],
   "source": [
    "DAX = download_ticker(\"^GDAXI\")"
   ]
  },
  {
   "cell_type": "code",
   "execution_count": 30,
   "metadata": {},
   "outputs": [
    {
     "data": {
      "image/png": "[encoded data removed]",
      "text/plain": [
       "<Figure size 432x288 with 1 Axes>"
      ]
     },
     "metadata": {
      "needs_background": "light"
     },
     "output_type": "display_data"
    }
   ],
   "source": [
    "Dax_R=(DAX/DAX.shift(1)-1)\n",
    "DaxFactor=len(Dax_R)\n",
    "Dax_mean=np.mean(Dax_R)*DaxFactor\n",
    "Dax_std=np.std(Dax_R)*np.sqrt(DaxFactor)\n",
    "plt.scatter(Dax_std,Dax_mean)\n",
    "plt.annotate(\"DAX\",(Dax_std,Dax_mean))\n",
    "plt.show()"
   ]
  },
  {
   "cell_type": "code",
   "execution_count": 32,
   "metadata": {},
   "outputs": [],
   "source": [
    "#Dataextraction,calculationoftheparametersMeanandSigma\n",
    "#Libraryimportations\n",
    "import pandas as pd\n",
    "import numpy as np\n",
    "#Dataextraction\n",
    "\n",
    "Tickers=['DPW.DE','ALV.DE','BMW.DE','DTE.DE','FME.DE','BAS.DE',\n",
    "'HEN3.DE','LIN.F','SAP.DE','DBK.DE','BAYN.DE','VOW3.DE',\n",
    "'HEI.DE','FRE.F','MRK.DE','BEI.DE','SIE.DE','MUV2.DE',\n",
    "'DB1.DE','VNA.DE','EOAN.F','DAI.DE','ADS.DE','WDI.F',\n",
    "'RWE.DE','IFX.DE','1COV.DE','TKA.DE','CON.DE','LHA.DE']\n",
    "#'FRE.F'changedto'FRE.DE'after2019/06/03\n",
    "#'WDI.F'changedto'WDI.DE'after2019/06/03\n",
    "#'EOAN.F'changedto'EOAN.DE'after2019/06/03"
   ]
  },
  {
   "cell_type": "code",
   "execution_count": 33,
   "metadata": {},
   "outputs": [
    {
     "name": "stdout",
     "output_type": "stream",
     "text": [
      "[*********************100%***********************]  1 of 1 completed\n",
      "[*********************100%***********************]  1 of 1 completed\n",
      "[*********************100%***********************]  1 of 1 completed\n",
      "[*********************100%***********************]  1 of 1 completed\n",
      "[*********************100%***********************]  1 of 1 completed\n",
      "[*********************100%***********************]  1 of 1 completed\n",
      "[*********************100%***********************]  1 of 1 completed\n",
      "[*********************100%***********************]  1 of 1 completed\n",
      "[*********************100%***********************]  1 of 1 completed\n",
      "[*********************100%***********************]  1 of 1 completed\n",
      "[*********************100%***********************]  1 of 1 completed\n",
      "[*********************100%***********************]  1 of 1 completed\n",
      "[*********************100%***********************]  1 of 1 completed\n",
      "[*********************100%***********************]  1 of 1 completed\n",
      "[*********************100%***********************]  1 of 1 completed\n",
      "[*********************100%***********************]  1 of 1 completed\n",
      "[*********************100%***********************]  1 of 1 completed\n",
      "[*********************100%***********************]  1 of 1 completed\n",
      "[*********************100%***********************]  1 of 1 completed\n",
      "[*********************100%***********************]  1 of 1 completed\n",
      "[*********************100%***********************]  1 of 1 completed\n",
      "[*********************100%***********************]  1 of 1 completed\n",
      "[*********************100%***********************]  1 of 1 completed\n",
      "[*********************100%***********************]  1 of 1 completed\n",
      "[*********************100%***********************]  1 of 1 completed\n",
      "[*********************100%***********************]  1 of 1 completed\n",
      "[*********************100%***********************]  1 of 1 completed\n",
      "[*********************100%***********************]  1 of 1 completed\n",
      "[*********************100%***********************]  1 of 1 completed\n",
      "[*********************100%***********************]  1 of 1 completed\n"
     ]
    }
   ],
   "source": [
    "\n",
    "startinput='2017-01-01'\n",
    "endinput='2017-12-31'\n",
    "S=pd.DataFrame()#createthedataframethatwillcontainthedata\n",
    "for t in Tickers:\n",
    "    S[t]=download_ticker(t)\n",
    "#Calculation of the mean vector and variance-covariance matrix\n",
    "R=pd.DataFrame()\n",
    "Mean=pd.DataFrame()\n",
    "Covar=pd.DataFrame()"
   ]
  },
  {
   "cell_type": "code",
   "execution_count": 34,
   "metadata": {},
   "outputs": [],
   "source": [
    "R=S/S.shift(1)-1 # calculate the returns\n",
    "R=R[1:] # eliminate the first row which is undefined\n",
    "Mean=R.mean() # calculate the mean vector\n",
    "Covar=R.cov() # calculate the variance-covariance matrix\n",
    "#Annualisation of the mean vector and variance-covariance matrix\n",
    "Mean_A=pd.DataFrame()\n",
    "Covar_A=pd.DataFrame()\n",
    "n=len(R)#calculatethenumberofreturnsobserved\n",
    "d=len(Tickers)#calculatethenumberofstocksused\n",
    "#Calculationoftheaveragefractionoftime(expressedinyears)betweentwoobservations\n",
    "Ys=int(startinput[0:4])\n",
    "Ms=int(startinput[5:7])\n",
    "Ds=int(startinput[8:10])\n",
    "Ye=int(endinput[0:4])\n",
    "Me=int(endinput[5:7])\n",
    "De=int(endinput[8:10])"
   ]
  },
  {
   "cell_type": "code",
   "execution_count": 35,
   "metadata": {},
   "outputs": [],
   "source": [
    "\n",
    "\n",
    "import datetime\n",
    "startdate=datetime.date(Ys,Ms,Ds)\n",
    "enddate=datetime.date(Ye,Me,De)\n",
    "z=enddate-startdate\n",
    "Duration=float(z.days)#calculatethenumberofcalendardays between the two dates\n",
    "m=float(len(R)-1)\n",
    "delta=Duration/365/m #calculatethetimeinterval,delta\n",
    "Covar_A=Covar/delta #calculatethemeanvectoronanannual basis"
   ]
  },
  {
   "cell_type": "code",
   "execution_count": 36,
   "metadata": {},
   "outputs": [],
   "source": [
    "\n",
    "Mean_A=Mean/delta#calculatethevariance-covariancematrix on anannual basis 5.5 Stability of the Solutions\n",
    "\n",
    "#Optimal investment portfolio ofrisky assets with positive allocations and limit constraints\n",
    "#Ref1:https://pypi.org/project/qpsolvers/\n",
    "#Ref2:https://scaron.info/blog/quadratic-programming-in-python.html\n",
    "#Ref3:https://web.stanford.edu/~boyd/papers/pdf/cvxpy_paper.pdf"
   ]
  },
  {
   "cell_type": "code",
   "execution_count": 38,
   "metadata": {},
   "outputs": [
    {
     "name": "stdout",
     "output_type": "stream",
     "text": [
      "Collecting qpsolvers\n",
      "  Downloading qpsolvers-1.6.1-py3-none-any.whl (23 kB)\n",
      "Collecting quadprog>=0.1.8\n",
      "  Downloading quadprog-0.1.8.tar.gz (269 kB)\n",
      "\u001b[K     |████████████████████████████████| 269 kB 90 kB/s eta 0:00:011\n",
      "\u001b[?25hCollecting Cython\n",
      "  Using cached Cython-0.29.23-cp37-cp37m-manylinux1_x86_64.whl (2.0 MB)\n",
      "Building wheels for collected packages: quadprog\n",
      "  Building wheel for quadprog (setup.py) ... \u001b[?25ldone\n",
      "\u001b[?25h  Created wheel for quadprog: filename=quadprog-0.1.8-cp37-cp37m-linux_x86_64.whl size=336646 sha256=2cab47eb8ba0aacac6516141ce6c0558e06f8cb19ed84446f10742000f3f922b\n",
      "  Stored in directory: /home/german/.cache/pip/wheels/40/74/3a/072734cebfae52efc8a2523fd4703da7dfac29f17bd01ee372\n",
      "Successfully built quadprog\n",
      "Installing collected packages: Cython, quadprog, qpsolvers\n",
      "Successfully installed Cython-0.29.23 qpsolvers-1.6.1 quadprog-0.1.8\n",
      "\u001b[33mWARNING: You are using pip version 20.0.2; however, version 21.1.3 is available.\n",
      "You should consider upgrading via the '/home/german/web/quantitative-portfolio-management/env/bin/python -m pip install --upgrade pip' command.\u001b[0m\n"
     ]
    }
   ],
   "source": [
    "\n",
    "!pip install qpsolvers #toaddwhenrunningonGoogleColab"
   ]
  },
  {
   "cell_type": "code",
   "execution_count": 39,
   "metadata": {},
   "outputs": [],
   "source": [
    "\n",
    "from numpy import array,dot\n",
    "from qpsolvers import solve_qp"
   ]
  },
  {
   "cell_type": "code",
   "execution_count": 40,
   "metadata": {},
   "outputs": [],
   "source": [
    "m=0.1 # expected return chosen here"
   ]
  },
  {
   "cell_type": "code",
   "execution_count": 47,
   "metadata": {},
   "outputs": [
    {
     "data": {
      "text/plain": [
       "array([[ 0.04740585,  0.02452174,  0.02053135,  0.01674508,  0.02182473,\n",
       "         0.02516303,  0.01902849,  0.00362133,  0.01890161,  0.03551316,\n",
       "         0.02673297,  0.02002293,  0.02285674,  0.0189759 ,  0.01944621,\n",
       "         0.01803951,  0.02929497,  0.02157854,  0.01618769,  0.00726787,\n",
       "         0.01966187,  0.01921805,  0.01651137,  0.01897438,  0.0198427 ,\n",
       "         0.02625871,  0.02319812,  0.02498734,  0.02423461,  0.03225143],\n",
       "       [ 0.02452174,  0.03422726,  0.01967349,  0.01379377,  0.01636211,\n",
       "         0.02384613,  0.0187722 ,  0.00539784,  0.01816551,  0.04248171,\n",
       "         0.02130716,  0.01709504,  0.02242287,  0.01784646,  0.01088384,\n",
       "         0.01487825,  0.02413269,  0.02606585,  0.01360509,  0.005728  ,\n",
       "         0.01614784,  0.01819634,  0.02052605,  0.01501568,  0.01799256,\n",
       "         0.01934563,  0.01855019,  0.02004315,  0.0202819 ,  0.02331889],\n",
       "       [ 0.02053135,  0.01967349,  0.0450026 ,  0.01354417,  0.01492588,\n",
       "         0.02333076,  0.0121661 ,  0.01184425,  0.01636884,  0.0392454 ,\n",
       "         0.0229953 ,  0.03311071,  0.02004164,  0.01362234,  0.01574174,\n",
       "         0.00922768,  0.02462202,  0.01414226,  0.00823556,  0.00615316,\n",
       "         0.00775879,  0.03010546,  0.01537159,  0.01478247,  0.01135128,\n",
       "         0.02810448,  0.00971893,  0.02255515,  0.02531014,  0.02383051],\n",
       "       [ 0.01674508,  0.01379377,  0.01354417,  0.04238628,  0.01651429,\n",
       "         0.01406083,  0.01258213,  0.00412791,  0.01291567,  0.02428083,\n",
       "         0.01580378,  0.01095103,  0.01403635,  0.0184244 ,  0.01084506,\n",
       "         0.01397588,  0.01239461,  0.01107403,  0.00939486,  0.01077997,\n",
       "         0.01681183,  0.01184216,  0.00980948,  0.01031577,  0.01898259,\n",
       "         0.01485779,  0.00498685,  0.01475031,  0.0121034 ,  0.01795285],\n",
       "       [ 0.02182473,  0.01636211,  0.01492588,  0.01651429,  0.05769152,\n",
       "         0.02043034,  0.01405693,  0.00480615,  0.0185763 ,  0.01588907,\n",
       "         0.02272361,  0.00671965,  0.02339953,  0.0385209 ,  0.020965  ,\n",
       "         0.01661479,  0.02560883,  0.01658587,  0.01185957,  0.01429688,\n",
       "         0.01569571,  0.01387515,  0.01581838,  0.01518093,  0.02009058,\n",
       "         0.02589628,  0.01655086,  0.02215745,  0.02018814,  0.02657872],\n",
       "       [ 0.02516303,  0.02384613,  0.02333076,  0.01406083,  0.02043034,\n",
       "         0.04538917,  0.01865665,  0.01148722,  0.02271832,  0.04277821,\n",
       "         0.02472364,  0.02353467,  0.02524302,  0.01903202,  0.0139727 ,\n",
       "         0.0159535 ,  0.03329805,  0.02155434,  0.01561806,  0.00543917,\n",
       "         0.02088667,  0.02116008,  0.020382  ,  0.02195857,  0.02336271,\n",
       "         0.03350353,  0.02327484,  0.02816933,  0.02287139,  0.02061349],\n",
       "       [ 0.01902849,  0.0187722 ,  0.0121661 ,  0.01258213,  0.01405693,\n",
       "         0.01865665,  0.0421213 ,  0.00355443,  0.02014337,  0.00855287,\n",
       "         0.01837784,  0.00949217,  0.01649556,  0.02018559,  0.01162009,\n",
       "         0.02740209,  0.02098589,  0.0169819 ,  0.01382322,  0.01308227,\n",
       "         0.0215311 ,  0.01082244,  0.01490431,  0.01963889,  0.0312661 ,\n",
       "         0.02331371,  0.01705821,  0.01372092,  0.01514851,  0.01469491],\n",
       "       [ 0.00362133,  0.00539784,  0.01184425,  0.00412791,  0.00480615,\n",
       "         0.01148722,  0.00355443,  0.1059016 ,  0.00569933,  0.01664825,\n",
       "         0.00631432,  0.02040473,  0.00943313,  0.001835  ,  0.00711322,\n",
       "         0.00542838,  0.00389371,  0.00087652,  0.00320793, -0.00454116,\n",
       "        -0.00609872,  0.00840045,  0.01169367,  0.01221909,  0.00227583,\n",
       "         0.00226927, -0.00190388,  0.01127197,  0.00733481,  0.0099015 ],\n",
       "       [ 0.01890161,  0.01816551,  0.01636884,  0.01291567,  0.0185763 ,\n",
       "         0.02271832,  0.02014337,  0.00569933,  0.03460424,  0.01672595,\n",
       "         0.02026064,  0.01411854,  0.01663912,  0.01913352,  0.01531465,\n",
       "         0.01948567,  0.02430042,  0.01652352,  0.01254909,  0.01198071,\n",
       "         0.0210058 ,  0.01377166,  0.01953749,  0.0214926 ,  0.02350109,\n",
       "         0.03516781,  0.01750485,  0.02345558,  0.01826548,  0.01756091],\n",
       "       [ 0.03551316,  0.04248171,  0.0392454 ,  0.02428083,  0.01588907,\n",
       "         0.04277821,  0.00855287,  0.01664825,  0.01672595,  0.19611532,\n",
       "         0.03229543,  0.04401879,  0.05254026,  0.01556605,  0.00853431,\n",
       "         0.00052897,  0.03972459,  0.0397947 ,  0.02847485, -0.00684022,\n",
       "         0.00680381,  0.03421303,  0.03352047,  0.01125812,  0.0130986 ,\n",
       "         0.03149329,  0.01806288,  0.04906397,  0.02538515,  0.0482875 ],\n",
       "       [ 0.02673297,  0.02130716,  0.0229953 ,  0.01580378,  0.02272361,\n",
       "         0.02472364,  0.01837784,  0.00631432,  0.02026064,  0.03229543,\n",
       "         0.06020248,  0.01743484,  0.01874194,  0.02369398,  0.02359658,\n",
       "         0.01432771,  0.02870471,  0.01446952,  0.01742964,  0.00427274,\n",
       "         0.01924231,  0.01950587,  0.01319473,  0.01405592,  0.01846961,\n",
       "         0.02474748,  0.01841134,  0.02044462,  0.01883812,  0.01106072],\n",
       "       [ 0.02002293,  0.01709504,  0.03311071,  0.01095103,  0.00671965,\n",
       "         0.02353467,  0.00949217,  0.02040473,  0.01411854,  0.04401879,\n",
       "         0.01743484,  0.09255294,  0.0115872 ,  0.00666837,  0.01800938,\n",
       "         0.00574808,  0.02650784,  0.01302391,  0.01470199,  0.00299279,\n",
       "         0.00960145,  0.03031765,  0.00832107,  0.02284837,  0.00367297,\n",
       "         0.02576874,  0.01832915,  0.02449272,  0.03011576,  0.01821018],\n",
       "       [ 0.02285674,  0.02242287,  0.02004164,  0.01403635,  0.02339953,\n",
       "         0.02524302,  0.01649556,  0.00943313,  0.01663912,  0.05254026,\n",
       "         0.01874194,  0.0115872 ,  0.07237494,  0.02461722,  0.01244411,\n",
       "         0.01472045,  0.03075021,  0.02114673,  0.01857943,  0.00072282,\n",
       "         0.0190387 ,  0.0141726 ,  0.02232149,  0.0143187 ,  0.02027288,\n",
       "         0.02434672,  0.02299373,  0.03451622,  0.01729456,  0.01889999],\n",
       "       [ 0.0189759 ,  0.01784646,  0.01362234,  0.0184244 ,  0.0385209 ,\n",
       "         0.01903202,  0.02018559,  0.001835  ,  0.01913352,  0.01556605,\n",
       "         0.02369398,  0.00666837,  0.02461722,  0.0603776 ,  0.01927052,\n",
       "         0.02005647,  0.02707226,  0.01657101,  0.01385198,  0.01553851,\n",
       "         0.02268476,  0.0140381 ,  0.0139302 ,  0.01356953,  0.03399826,\n",
       "         0.02507882,  0.01384238,  0.01825813,  0.01763604,  0.02187983],\n",
       "       [ 0.01944621,  0.01088384,  0.01574174,  0.01084506,  0.020965  ,\n",
       "         0.0139727 ,  0.01162009,  0.00711322,  0.01531465,  0.00853431,\n",
       "         0.02359658,  0.01800938,  0.01244411,  0.01927052,  0.053199  ,\n",
       "         0.01195013,  0.02264545,  0.00980715,  0.01431807,  0.00824388,\n",
       "         0.01158476,  0.01476845,  0.00821605,  0.00672992,  0.01391935,\n",
       "         0.02098555,  0.00602009,  0.01495562,  0.01143665,  0.01200049],\n",
       "       [ 0.01803951,  0.01487825,  0.00922768,  0.01397588,  0.01661479,\n",
       "         0.0159535 ,  0.02740209,  0.00542838,  0.01948567,  0.00052897,\n",
       "         0.01432771,  0.00574808,  0.01472045,  0.02005647,  0.01195013,\n",
       "         0.03753173,  0.0187289 ,  0.01414941,  0.01044944,  0.01436087,\n",
       "         0.02185717,  0.00810698,  0.01175941,  0.02134999,  0.02741411,\n",
       "         0.02198682,  0.01500282,  0.01395211,  0.0150531 ,  0.0134423 ],\n",
       "       [ 0.02929497,  0.02413269,  0.02462202,  0.01239461,  0.02560883,\n",
       "         0.03329805,  0.02098589,  0.00389371,  0.02430042,  0.03972459,\n",
       "         0.02870471,  0.02650784,  0.03075021,  0.02707226,  0.02264545,\n",
       "         0.0187289 ,  0.06307718,  0.02247746,  0.01629326,  0.01007717,\n",
       "         0.01976725,  0.02291794,  0.02366413,  0.02295949,  0.02596503,\n",
       "         0.03774599,  0.02379971,  0.03201439,  0.02594409,  0.02716793],\n",
       "       [ 0.02157854,  0.02606585,  0.01414226,  0.01107403,  0.01658587,\n",
       "         0.02155434,  0.0169819 ,  0.00087652,  0.01652352,  0.0397947 ,\n",
       "         0.01446952,  0.01302391,  0.02114673,  0.01657101,  0.00980715,\n",
       "         0.01414941,  0.02247746,  0.03849962,  0.01186021,  0.00364628,\n",
       "         0.01523751,  0.01255677,  0.0147731 ,  0.00828041,  0.01677026,\n",
       "         0.01554285,  0.01729749,  0.01892051,  0.01641368,  0.01934743],\n",
       "       [ 0.01618769,  0.01360509,  0.00823556,  0.00939486,  0.01185957,\n",
       "         0.01561806,  0.01382322,  0.00320793,  0.01254909,  0.02847485,\n",
       "         0.01742964,  0.01470199,  0.01857943,  0.01385198,  0.01431807,\n",
       "         0.01044944,  0.01629326,  0.01186021,  0.05944755,  0.00535365,\n",
       "         0.01483221,  0.01182234,  0.01269181,  0.00818258,  0.01162655,\n",
       "         0.01941911,  0.00622854,  0.01142351,  0.0115564 ,  0.01255881],\n",
       "       [ 0.00726787,  0.005728  ,  0.00615316,  0.01077997,  0.01429688,\n",
       "         0.00543917,  0.01308227, -0.00454116,  0.01198071, -0.00684022,\n",
       "         0.00427274,  0.00299279,  0.00072282,  0.01553851,  0.00824388,\n",
       "         0.01436087,  0.01007717,  0.00364628,  0.00535365,  0.03569803,\n",
       "         0.01293197,  0.0050653 ,  0.00473454,  0.00692367,  0.01785941,\n",
       "         0.01435471,  0.00078073,  0.00550374,  0.00675229,  0.01043117],\n",
       "       [ 0.01966187,  0.01614784,  0.00775879,  0.01681183,  0.01569571,\n",
       "         0.02088667,  0.0215311 , -0.00609872,  0.0210058 ,  0.00680381,\n",
       "         0.01924231,  0.00960145,  0.0190387 ,  0.02268476,  0.01158476,\n",
       "         0.02185717,  0.01976725,  0.01523751,  0.01483221,  0.01293197,\n",
       "         0.10422954,  0.00762276,  0.00510772,  0.01729514,  0.07961966,\n",
       "         0.02834149,  0.00642265,  0.02916772,  0.00933615,  0.00933749],\n",
       "       [ 0.01921805,  0.01819634,  0.03010546,  0.01184216,  0.01387515,\n",
       "         0.02116008,  0.01082244,  0.00840045,  0.01377166,  0.03421303,\n",
       "         0.01950587,  0.03031765,  0.0141726 ,  0.0140381 ,  0.01476845,\n",
       "         0.00810698,  0.02291794,  0.01255677,  0.01182234,  0.0050653 ,\n",
       "         0.00762276,  0.03322033,  0.01265922,  0.012614  ,  0.00840198,\n",
       "         0.02306503,  0.01256256,  0.02047212,  0.01986503,  0.01891613],\n",
       "       [ 0.01651137,  0.02052605,  0.01537159,  0.00980948,  0.01581838,\n",
       "         0.020382  ,  0.01490431,  0.01169367,  0.01953749,  0.03352047,\n",
       "         0.01319473,  0.00832107,  0.02232149,  0.0139302 ,  0.00821605,\n",
       "         0.01175941,  0.02366413,  0.0147731 ,  0.01269181,  0.00473454,\n",
       "         0.00510772,  0.01265922,  0.10835463,  0.02110301,  0.01191066,\n",
       "         0.0245752 ,  0.0211585 ,  0.00986792,  0.01052759,  0.0255601 ],\n",
       "       [ 0.01897438,  0.01501568,  0.01478247,  0.01031577,  0.01518093,\n",
       "         0.02195857,  0.01963889,  0.01221909,  0.0214926 ,  0.01125812,\n",
       "         0.01405592,  0.02284837,  0.0143187 ,  0.01356953,  0.00672992,\n",
       "         0.02134999,  0.02295949,  0.00828041,  0.00818258,  0.00692367,\n",
       "         0.01729514,  0.012614  ,  0.02110301,  0.13030526,  0.01330279,\n",
       "         0.04119643,  0.01900571,  0.01444953,  0.02267703,  0.02401407],\n",
       "       [ 0.0198427 ,  0.01799256,  0.01135128,  0.01898259,  0.02009058,\n",
       "         0.02336271,  0.0312661 ,  0.00227583,  0.02350109,  0.0130986 ,\n",
       "         0.01846961,  0.00367297,  0.02027288,  0.03399826,  0.01391935,\n",
       "         0.02741411,  0.02596503,  0.01677026,  0.01162655,  0.01785941,\n",
       "         0.07961966,  0.00840198,  0.01191066,  0.01330279,  0.17324687,\n",
       "         0.03336562,  0.00402665,  0.02711631,  0.01725371,  0.01275958],\n",
       "       [ 0.02625871,  0.01934563,  0.02810448,  0.01485779,  0.02589628,\n",
       "         0.03350353,  0.02331371,  0.00226927,  0.03516781,  0.03149329,\n",
       "         0.02474748,  0.02576874,  0.02434672,  0.02507882,  0.02098555,\n",
       "         0.02198682,  0.03774599,  0.01554285,  0.01941911,  0.01435471,\n",
       "         0.02834149,  0.02306503,  0.0245752 ,  0.04119643,  0.03336562,\n",
       "         0.1098641 ,  0.02481621,  0.03192242,  0.03336842,  0.03462595],\n",
       "       [ 0.02319812,  0.01855019,  0.00971893,  0.00498685,  0.01655086,\n",
       "         0.02327484,  0.01705821, -0.00190388,  0.01750485,  0.01806288,\n",
       "         0.01841134,  0.01832915,  0.02299373,  0.01384238,  0.00602009,\n",
       "         0.01500282,  0.02379971,  0.01729749,  0.00622854,  0.00078073,\n",
       "         0.00642265,  0.01256256,  0.0211585 ,  0.01900571,  0.00402665,\n",
       "         0.02481621,  0.1202365 ,  0.0336357 ,  0.02654696,  0.01982504],\n",
       "       [ 0.02498734,  0.02004315,  0.02255515,  0.01475031,  0.02215745,\n",
       "         0.02816933,  0.01372092,  0.01127197,  0.02345558,  0.04906397,\n",
       "         0.02044462,  0.02449272,  0.03451622,  0.01825813,  0.01495562,\n",
       "         0.01395211,  0.03201439,  0.01892051,  0.01142351,  0.00550374,\n",
       "         0.02916772,  0.02047212,  0.00986792,  0.01444953,  0.02711631,\n",
       "         0.03192242,  0.0336357 ,  0.11836453,  0.02251978,  0.03419026],\n",
       "       [ 0.02423461,  0.0202819 ,  0.02531014,  0.0121034 ,  0.02018814,\n",
       "         0.02287139,  0.01514851,  0.00733481,  0.01826548,  0.02538515,\n",
       "         0.01883812,  0.03011576,  0.01729456,  0.01763604,  0.01143665,\n",
       "         0.0150531 ,  0.02594409,  0.01641368,  0.0115564 ,  0.00675229,\n",
       "         0.00933615,  0.01986503,  0.01052759,  0.02267703,  0.01725371,\n",
       "         0.03336842,  0.02654696,  0.02251978,  0.05315636,  0.01642613],\n",
       "       [ 0.03225143,  0.02331889,  0.02383051,  0.01795285,  0.02657872,\n",
       "         0.02061349,  0.01469491,  0.0099015 ,  0.01756091,  0.0482875 ,\n",
       "         0.01106072,  0.01821018,  0.01889999,  0.02187983,  0.01200049,\n",
       "         0.0134423 ,  0.02716793,  0.01934743,  0.01255881,  0.01043117,\n",
       "         0.00933749,  0.01891613,  0.0255601 ,  0.02401407,  0.01275958,\n",
       "         0.03462595,  0.01982504,  0.03419026,  0.01642613,  0.14411316]])"
      ]
     },
     "execution_count": 47,
     "metadata": {},
     "output_type": "execute_result"
    }
   ],
   "source": [
    "array(2*Covar_A)"
   ]
  },
  {
   "cell_type": "code",
   "execution_count": 53,
   "metadata": {},
   "outputs": [
    {
     "name": "stdout",
     "output_type": "stream",
     "text": [
      "QPsolution: [-1.19628566e-17 -6.43117002e-18  5.96664088e-02  1.00000000e-01\n",
      " -2.22698727e-18  2.53056891e-17  8.61329362e-02  1.00000000e-01\n",
      "  9.29588338e-03  3.56120587e-18  2.72632899e-18 -7.51570477e-18\n",
      "  1.16750423e-02  3.00793380e-02  1.00000000e-01  4.35261718e-02\n",
      "  3.11320629e-17  1.00000000e-01  7.57628555e-02  1.00000000e-01\n",
      "  1.57807716e-02  1.00000000e-01  2.90751213e-02  1.10536834e-18\n",
      " -5.89301908e-19  6.36676519e-18  3.90054712e-02  2.69373253e-19\n",
      " -1.24141458e-18 -1.93163210e-18]\n",
      "checkalloc: 1.0000000000000004\n",
      "checkmean: 0.10000000000000002\n",
      "standarddeviation: 0.05923276737391324\n"
     ]
    }
   ],
   "source": [
    "P=array(2*Covar_A)\n",
    "q=np.zeros(d)\n",
    "G1=np.diag([-1]*d)\n",
    "G2=np.diag([1]*d)\n",
    "G=np.vstack([G1,G2])#createthematrixwithblocks-IdandId.\n",
    "h=array([0]*d+[0.1]*d)\n",
    "A=array([Mean_A,[1]*d])\n",
    "b=array([m,1])\n",
    "\n",
    "alloc=solve_qp(P,q,G,h,A,b)#findthesolution\n",
    "Vec1=[1]*d\n",
    "print(\"QPsolution:\",alloc)\n",
    "print(\"checkalloc:\",dot(alloc.T,Vec1))\n",
    "print(\"checkmean:\",dot(alloc.T,Mean_A))\n",
    "print(\"standarddeviation:\",np.sqrt(dot(alloc.T,dot(P,alloc)))\n",
    "/2)#standarddeviation"
   ]
  },
  {
   "cell_type": "code",
   "execution_count": null,
   "metadata": {},
   "outputs": [],
   "source": []
  },
  {
   "cell_type": "code",
   "execution_count": null,
   "metadata": {},
   "outputs": [],
   "source": []
  }
 ],
 "metadata": {
  "kernelspec": {
   "display_name": "quant-portfolio-book",
   "language": "python",
   "name": "quant-portfolio-book"
  },
  "language_info": {
   "codemirror_mode": {
    "name": "ipython",
    "version": 3
   },
   "file_extension": ".py",
   "mimetype": "text/x-python",
   "name": "python",
   "nbconvert_exporter": "python",
   "pygments_lexer": "ipython3",
   "version": "3.7.10"
  }
 },
 "nbformat": 4,
 "nbformat_minor": 4
}
