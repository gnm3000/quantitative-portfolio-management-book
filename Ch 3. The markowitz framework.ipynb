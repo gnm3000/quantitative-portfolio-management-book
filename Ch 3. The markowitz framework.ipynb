{
 "cells": [
  {
   "cell_type": "code",
   "execution_count": 2,
   "metadata": {},
   "outputs": [],
   "source": [
    "import pandas as pd\n",
    "import yfinance as yf"
   ]
  },
  {
   "cell_type": "code",
   "execution_count": 3,
   "metadata": {},
   "outputs": [],
   "source": [
    "import numpy as np\n",
    "from numpy import linalg as LA\n",
    "from scipy import stats\n",
    "from matplotlib import pyplot as plt"
   ]
  },
  {
   "cell_type": "code",
   "execution_count": 15,
   "metadata": {},
   "outputs": [],
   "source": [
    "tickers = ['DPW.DE','ALV.DE']\n",
    "startinput = \"2017-01-01\"\n",
    "endinput = \"2017-12-31\""
   ]
  },
  {
   "cell_type": "code",
   "execution_count": 16,
   "metadata": {},
   "outputs": [],
   "source": [
    "alpha_conf = 0.95 # level of confidence for the mean vector estimator"
   ]
  },
  {
   "cell_type": "code",
   "execution_count": 17,
   "metadata": {},
   "outputs": [],
   "source": [
    "S=pd.DataFrame()"
   ]
  },
  {
   "cell_type": "code",
   "execution_count": 18,
   "metadata": {},
   "outputs": [
    {
     "name": "stdout",
     "output_type": "stream",
     "text": [
      "[*********************100%***********************]  1 of 1 completed\n"
     ]
    },
    {
     "data": {
      "text/plain": [
       "Date\n",
       "2017-01-02    25.519751\n",
       "2017-01-03    25.601025\n",
       "2017-01-04    25.458797\n",
       "2017-01-05    25.889545\n",
       "2017-01-06    25.901737\n",
       "                ...    \n",
       "2017-12-21    34.169418\n",
       "2017-12-22    33.993137\n",
       "2017-12-27    34.089676\n",
       "2017-12-28    33.690941\n",
       "2017-12-29    33.367756\n",
       "Name: Adj Close, Length: 255, dtype: float64"
      ]
     },
     "metadata": {},
     "output_type": "display_data"
    },
    {
     "name": "stdout",
     "output_type": "stream",
     "text": [
      "[*********************100%***********************]  1 of 1 completed\n"
     ]
    },
    {
     "data": {
      "text/plain": [
       "Date\n",
       "2017-01-02    124.379189\n",
       "2017-01-03    126.158302\n",
       "2017-01-04    126.830399\n",
       "2017-01-05    127.067619\n",
       "2017-01-06    127.383919\n",
       "                 ...    \n",
       "2017-12-21    162.166214\n",
       "2017-12-22    161.339890\n",
       "2017-12-27    160.389618\n",
       "2017-12-28    159.687241\n",
       "2017-12-29    158.241165\n",
       "Name: Adj Close, Length: 255, dtype: float64"
      ]
     },
     "metadata": {},
     "output_type": "display_data"
    }
   ],
   "source": [
    "for t in tickers:\n",
    "    data= yf.download(tickers = t,\n",
    "                        start=startinput,\n",
    "                        end=endinput,\n",
    "                        interval = \"1d\",\n",
    "                        auto_ajust = True,\n",
    "                        threads = True,\n",
    "                           )\n",
    "    display(data[\"Adj Close\"])\n",
    "    S[t]=data[\"Adj Close\"]"
   ]
  },
  {
   "cell_type": "code",
   "execution_count": 20,
   "metadata": {},
   "outputs": [],
   "source": [
    "# mean vector and covariance variance\n",
    "R=pd.DataFrame()\n",
    "Covar = pd.DataFrame()\n",
    "Mean = pd.DataFrame()\n",
    "R=np.log(S) - np.log(S.shift(1))\n",
    "R=R[1:]\n",
    "Mean = R.mean()\n",
    "Covar = R.cov()"
   ]
  },
  {
   "cell_type": "code",
   "execution_count": 21,
   "metadata": {},
   "outputs": [],
   "source": [
    "# calculation q(alpha_conf)"
   ]
  },
  {
   "cell_type": "code",
   "execution_count": 22,
   "metadata": {},
   "outputs": [],
   "source": [
    "n = len(R)\n",
    "d = len(tickers)\n",
    "dist = stats.f(d,n-d)"
   ]
  },
  {
   "cell_type": "code",
   "execution_count": 23,
   "metadata": {},
   "outputs": [],
   "source": [
    "[a,b] = dist.interval(2*alpha_conf  -1)"
   ]
  },
  {
   "cell_type": "code",
   "execution_count": 24,
   "metadata": {},
   "outputs": [],
   "source": [
    "q= float(d) / float(n-d)*float(b) # calculate q(alpha_conf)"
   ]
  },
  {
   "cell_type": "code",
   "execution_count": 26,
   "metadata": {},
   "outputs": [],
   "source": [
    "# calculation of the avg fraction of time between tro observations\n",
    "Ys= int ( startinput [0:4])\n",
    "Ms= int ( startinput [5:7])\n",
    "Ds= int ( startinput [8:10])\n",
    "Ye= int ( endinput [0:4])\n",
    "Me= int ( endinput [5:7])\n",
    "De= int ( endinput [8:10])"
   ]
  },
  {
   "cell_type": "code",
   "execution_count": 27,
   "metadata": {},
   "outputs": [],
   "source": [
    "import datetime\n",
    "startdate = datetime.date(Ys,Ms,Ds)\n",
    "enddate = datetime.date(Ye,Me,De)\n",
    "z=enddate - startdate\n",
    "Duration = float (z.days ) # calculate the number of calendar days\n"
   ]
  },
  {
   "cell_type": "code",
   "execution_count": 28,
   "metadata": {},
   "outputs": [],
   "source": [
    "m = float ( len (R) - 1)"
   ]
  },
  {
   "cell_type": "code",
   "execution_count": 29,
   "metadata": {},
   "outputs": [],
   "source": [
    "delta_t = Duration/365*m # calculate the time interval delta"
   ]
  },
  {
   "cell_type": "code",
   "execution_count": 30,
   "metadata": {},
   "outputs": [
    {
     "data": {
      "text/plain": [
       "252.3068493150685"
      ]
     },
     "execution_count": 30,
     "metadata": {},
     "output_type": "execute_result"
    }
   ],
   "source": [
    "delta_t"
   ]
  },
  {
   "cell_type": "code",
   "execution_count": 33,
   "metadata": {},
   "outputs": [],
   "source": [
    "# calculation of the elipse characteristics for M\n"
   ]
  },
  {
   "cell_type": "code",
   "execution_count": 34,
   "metadata": {},
   "outputs": [],
   "source": [
    "w,v = LA.eig(Covar)"
   ]
  },
  {
   "cell_type": "code",
   "execution_count": 36,
   "metadata": {},
   "outputs": [],
   "source": [
    "arg = pd.DataFrame()\n",
    "x = pd.DataFrame()\n",
    "y = pd.DataFrame()\n"
   ]
  },
  {
   "cell_type": "code",
   "execution_count": 45,
   "metadata": {},
   "outputs": [
    {
     "data": {
      "image/png": "[encoded data removed]",
      "text/plain": [
       "<Figure size 432x288 with 1 Axes>"
      ]
     },
     "metadata": {
      "needs_background": "light"
     },
     "output_type": "display_data"
    }
   ],
   "source": [
    "fig,ax = plt.subplots()\n",
    "brg = list(range(100))\n",
    "arg = list(range(100))\n",
    "for i in brg: arg[i] = brg[i]*2*np.pi/99 # list of angles between  0 a 2pi.\n",
    "x= np.cos(arg)*np.sqrt(q*w[0])*v.T[0][0] + np.sin(arg)*np.sqrt(q*w[1])*v.T[1][0] + Mean[0]\n",
    "y= np.cos(arg)*np.sqrt(q*w[0])*v.T[0][1] + np.sin(arg)*np.sqrt(q*w[1])*v.T[1][1] + Mean[1]\n",
    "z1=R[\"DPW.DE\"]\n",
    "z2=R[\"ALV.DE\"]\n",
    "\n",
    "plt.scatter(z1,z2,marker=\"+\",alpha=0.7)\n",
    "plt.plot(x,y,alpha=0.9,color=\"red\")\n",
    "plt.scatter(Mean[0],Mean[1],color=\"black\",marker=\"+\")\n",
    "plt.xlabel(r'$m_1$')\n",
    "plt.xlabel(r'$m_2$')\n",
    "plt.suptitle(\"confidents domains \",size=\"medium\")\n",
    "plt.grid()\n",
    "\n",
    "beta =0.95 # level of confidence\n",
    "Ex = pd . DataFrame ( )\n",
    "Ey = pd . DataFrame ( )\n",
    "distchi = stats . chi2 (2)\n",
    "Ea , Eb = dist.interval(2*beta-1)\n",
    "p=Eb\n",
    "Ex = np.cos(arg)*np.sqrt(p*w[0])*v.T[0][0]+ np.sin(arg)*np.sqrt(p*w[1])*v.T[1][0]+Mean[0]\n",
    "Ey = np.cos(arg)*np.sqrt(p*w[0])*v.T[0][1]+ np.sin(arg)*np.sqrt(p*w[1])*v.T[1][1]+Mean[1]\n",
    "plt.plot(Ex,Ey,alpha=0.7,color =\"green\")\n",
    "plt.show()"
   ]
  },
  {
   "cell_type": "code",
   "execution_count": null,
   "metadata": {},
   "outputs": [],
   "source": []
  }
 ],
 "metadata": {
  "kernelspec": {
   "display_name": "quant-portfolio-book",
   "language": "python",
   "name": "quant-portfolio-book"
  },
  "language_info": {
   "codemirror_mode": {
    "name": "ipython",
    "version": 3
   },
   "file_extension": ".py",
   "mimetype": "text/x-python",
   "name": "python",
   "nbconvert_exporter": "python",
   "pygments_lexer": "ipython3",
   "version": "3.7.10"
  }
 },
 "nbformat": 4,
 "nbformat_minor": 4
}
