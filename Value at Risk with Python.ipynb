{
 "cells": [
  {
   "cell_type": "markdown",
   "metadata": {},
   "source": [
    "Historical VaR\n",
    "\n",
    "Even though the past is not an indication of future performance, this is still a insightful indication of downside to bear in mind.\n",
    "\n",
    "Historical VaR consists in calculating the nth worst outcome out of the historical sample. Below you can see one possible way to calculate it in Python:"
   ]
  },
  {
   "cell_type": "code",
   "execution_count": 8,
   "metadata": {},
   "outputs": [],
   "source": [
    "import pandas as pd\n",
    "import yfinance as yf\n",
    "def download_ticker(ticker):\n",
    "    data_= yf.download(tickers = ticker,\n",
    "                        start=\"2017-01-01\",\n",
    "                        #end=\"2017-12-31\",\n",
    "                        interval = \"1d\",\n",
    "                        auto_ajust = True,\n",
    "                        threads = True,\n",
    "                           )\n",
    "    #display(data_[\"Adj Close\"])\n",
    "    return data_[\"Adj Close\"]"
   ]
  },
  {
   "cell_type": "code",
   "execution_count": 9,
   "metadata": {},
   "outputs": [
    {
     "name": "stdout",
     "output_type": "stream",
     "text": [
      "[*********************100%***********************]  1 of 1 completed\n"
     ]
    },
    {
     "data": {
      "text/plain": [
       "Date\n",
       "2017-01-03     27.413372\n",
       "2017-01-04     27.382690\n",
       "2017-01-05     27.521944\n",
       "2017-01-06     27.828764\n",
       "2017-01-09     28.083660\n",
       "                 ...    \n",
       "2021-07-01    137.270004\n",
       "2021-07-02    139.960007\n",
       "2021-07-06    142.020004\n",
       "2021-07-07    144.570007\n",
       "2021-07-08    143.240005\n",
       "Name: Adj Close, Length: 1136, dtype: float64"
      ]
     },
     "execution_count": 9,
     "metadata": {},
     "output_type": "execute_result"
    }
   ],
   "source": [
    "download_ticker(\"AAPL\")"
   ]
  },
  {
   "cell_type": "code",
   "execution_count": 11,
   "metadata": {},
   "outputs": [],
   "source": [
    "import numpy as np\n",
    "def var_historic(r, level=1):\n",
    "    \"\"\"\n",
    "    Takes in a series of returns (r), and the percentage level\n",
    "(level)\n",
    "    Returns the historic Value at Risk at a specified level\n",
    "    i.e. returns the number such that \"level\" percent of the returns\n",
    "    fall below that number, and the (100-level) percent are above\n",
    "    \"\"\"\n",
    "    if isinstance(r, pd.DataFrame):\n",
    "        return r.aggregate(var_historic, level=level)\n",
    "    elif isinstance(r, pd.Series):\n",
    "        return -np.percentile(r, level)\n",
    "    else:\n",
    "        raise TypeError(\"Expected r to be a Series or DataFrame\")"
   ]
  },
  {
   "cell_type": "code",
   "execution_count": 13,
   "metadata": {},
   "outputs": [
    {
     "name": "stdout",
     "output_type": "stream",
     "text": [
      "[*********************100%***********************]  1 of 1 completed\n"
     ]
    },
    {
     "data": {
      "text/plain": [
       "0.052525469860639905"
      ]
     },
     "execution_count": 13,
     "metadata": {},
     "output_type": "execute_result"
    }
   ],
   "source": [
    "var_historic(download_ticker(\"AAPL\").pct_change().dropna())"
   ]
  },
  {
   "attachments": {},
   "cell_type": "markdown",
   "metadata": {},
   "source": [
    "Parametric and Semi-Parametric VaR\n",
    "Another way to calculate VaR is to assume the set of possible outcomes behaves like a Normal (Gaussian) Distribution\n",
    "The main drawback of the parametric approach is that real world returns usually have a distribution with “fat tails” (high kurtosis).\n",
    "<img src=\"https://miro.medium.com/max/700/1*tjgMEXMLizt-48DLr1Gwrw.png\" >\n",
    "To illustrate how this is important, let’s say that you calculate the VAR for 1% using a parametric approach and it comes up as 6%. Then, you look at real historical data, and you see that a -6% return happens way more often then 1% of the time: this would be an indication of fat-tails."
   ]
  },
  {
   "cell_type": "markdown",
   "metadata": {},
   "source": [
    "Below you will find some code for parametric and semiparametric VaR"
   ]
  },
  {
   "cell_type": "code",
   "execution_count": 15,
   "metadata": {},
   "outputs": [],
   "source": [
    "from scipy.stats import norm\n",
    "def var_gaussian(r, level=5, modified=False):\n",
    "    \"\"\"\n",
    "    Returns the Parametric Gauuian VaR of a Series or DataFrame\n",
    "    If \"modified\" is True, then the modified VaR is returned,\n",
    "    using the Cornish-Fisher modification\n",
    "    \"\"\"\n",
    "    # compute the Z score assuming it was Gaussian\n",
    "    z = norm.ppf(level/100)\n",
    "    if modified:\n",
    "        # modify the Z score based on observed skewness and kurtosis\n",
    "        s = skewness(r)\n",
    "        k = kurtosis(r)\n",
    "        z = (z +\n",
    "                (z**2 - 1)*s/6 +\n",
    "                (z**3 -3*z)*(k-3)/24 -\n",
    "                (2*z**3 - 5*z)*(s**2)/36\n",
    "            )\n",
    "    return -(r.mean() + z*r.std(ddof=0))"
   ]
  },
  {
   "cell_type": "code",
   "execution_count": 16,
   "metadata": {},
   "outputs": [
    {
     "name": "stdout",
     "output_type": "stream",
     "text": [
      "[*********************100%***********************]  1 of 1 completed\n"
     ]
    },
    {
     "data": {
      "text/plain": [
       "0.030667009789832063"
      ]
     },
     "execution_count": 16,
     "metadata": {},
     "output_type": "execute_result"
    }
   ],
   "source": [
    "var_gaussian(download_ticker(\"AAPL\").pct_change().dropna())"
   ]
  },
  {
   "cell_type": "markdown",
   "metadata": {},
   "source": [
    "Lastly, another method for calculating VaR consists of simulating possible random outcomes and using that as the distribution for the calculation."
   ]
  },
  {
   "cell_type": "markdown",
   "metadata": {},
   "source": [
    "# VaR with Monte Carlo"
   ]
  },
  {
   "cell_type": "code",
   "execution_count": null,
   "metadata": {},
   "outputs": [],
   "source": []
  }
 ],
 "metadata": {
  "kernelspec": {
   "display_name": "quant-portfolio-book",
   "language": "python",
   "name": "quant-portfolio-book"
  },
  "language_info": {
   "codemirror_mode": {
    "name": "ipython",
    "version": 3
   },
   "file_extension": ".py",
   "mimetype": "text/x-python",
   "name": "python",
   "nbconvert_exporter": "python",
   "pygments_lexer": "ipython3",
   "version": "3.7.10"
  }
 },
 "nbformat": 4,
 "nbformat_minor": 4
}
